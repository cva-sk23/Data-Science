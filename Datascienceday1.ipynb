{
 "cells": [
  {
   "cell_type": "markdown",
   "id": "3a24e98d",
   "metadata": {},
   "source": [
    "## NEW PROGRAM\n"
   ]
  },
  {
   "cell_type": "code",
   "execution_count": 1,
   "id": "4637738e",
   "metadata": {},
   "outputs": [
    {
     "name": "stdout",
     "output_type": "stream",
     "text": [
      "hello guvi\n"
     ]
    }
   ],
   "source": [
    "print('hello guvi')"
   ]
  },
  {
   "cell_type": "markdown",
   "id": "417004e3",
   "metadata": {},
   "source": [
    "# This is the first code\n",
    "\n"
   ]
  },
  {
   "cell_type": "code",
   "execution_count": 16,
   "id": "7ffec6e5",
   "metadata": {},
   "outputs": [
    {
     "name": "stdout",
     "output_type": "stream",
     "text": [
      "data science\n",
      "123456\n",
      "123\n"
     ]
    }
   ],
   "source": [
    "print(\"data science\")\n",
    "print(123456)\n",
    "a=123\n",
    "print (a)\n",
    "\n"
   ]
  },
  {
   "cell_type": "code",
   "execution_count": null,
   "id": "9e28b4a7",
   "metadata": {},
   "outputs": [],
   "source": []
  }
 ],
 "metadata": {
  "kernelspec": {
   "display_name": ".venv",
   "language": "python",
   "name": "python3"
  },
  "language_info": {
   "codemirror_mode": {
    "name": "ipython",
    "version": 3
   },
   "file_extension": ".py",
   "mimetype": "text/x-python",
   "name": "python",
   "nbconvert_exporter": "python",
   "pygments_lexer": "ipython3",
   "version": "3.12.10"
  }
 },
 "nbformat": 4,
 "nbformat_minor": 5
}
