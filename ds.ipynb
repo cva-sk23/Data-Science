{
  "nbformat": 4,
  "nbformat_minor": 0,
  "metadata": {
    "colab": {
      "provenance": [],
      "toc_visible": true,
      "authorship_tag": "ABX9TyMZCMtVYnjoQ6edl/WPidu6",
      "include_colab_link": true
    },
    "kernelspec": {
      "name": "python3",
      "display_name": "Python 3"
    },
    "language_info": {
      "name": "python"
    }
  },
  "cells": [
    {
      "cell_type": "markdown",
      "metadata": {
        "id": "view-in-github",
        "colab_type": "text"
      },
      "source": [
        "<a href=\"https://colab.research.google.com/github/cva-sk23/Data-Science/blob/main/ds.ipynb\" target=\"_parent\"><img src=\"https://colab.research.google.com/assets/colab-badge.svg\" alt=\"Open In Colab\"/></a>"
      ]
    },
    {
      "cell_type": "code",
      "execution_count": null,
      "metadata": {
        "id": "h7D2WCWIFLvP"
      },
      "outputs": [],
      "source": [
        "LFC = {\n",
        "    'Name': [\"Alisson\", \"Virgil van Dijk\", \"Luis Díaz\", \"Mohamed Salah\",\"Joe Gomez\", \"Ibrahima Konaté\", \"Andy Robertson\",\"Dominik Szoboszlai\",\n",
        "    \"Alexis Mac Allister\", \"Curtis Jones\", \"Darwin Núñez\", \"Diogo Jota\",\"Wataru Endo\", \"Cody Gakpo\", \"Harvey Elliott\" ],\n",
        "    'squad_num': [1, 4, 7, 11,2, 5, 26, 8,10, 17, 9, 20, 3, 18, 19 ],\n",
        "    'position': ( \"Goalkeeper\", \"Defender\", \"Forward\", \"Winger\",\"Defender\", \"Defender\", \"Defender\", \"Midfielder\",\n",
        "    \"Midfielder\", \"Midfielder\", \"Forward\", \"Forward\",\"Midfielder\", \"Forward\", \"Midfielder\" ),\n",
        "    'Nationality': [\"Brazil\", \"Netherlands\", \"Colombia\", \"Egypt\",\"England\", \"France\", \"Scotland\", \"Hungary\",\n",
        "    \"Argentina\", \"England\", \"Uruguay\", \"Portugal\",\"Japan\", \"Netherlands\", \"England\"]}\n"
      ]
    },
    {
      "cell_type": "code",
      "source": [
        "LFC"
      ],
      "metadata": {
        "colab": {
          "base_uri": "https://localhost:8080/"
        },
        "id": "8MNtqUB_K2tf",
        "outputId": "2bce7d82-d592-4dce-dd96-bb42c88214cd"
      },
      "execution_count": null,
      "outputs": [
        {
          "output_type": "execute_result",
          "data": {
            "text/plain": [
              "{'Name': ['Alisson',\n",
              "  'Virgil van Dijk',\n",
              "  'Luis Díaz',\n",
              "  'Mohamed Salah',\n",
              "  'Joe Gomez',\n",
              "  'Ibrahima Konaté',\n",
              "  'Andy Robertson',\n",
              "  'Dominik Szoboszlai',\n",
              "  'Alexis Mac Allister',\n",
              "  'Curtis Jones',\n",
              "  'Darwin Núñez',\n",
              "  'Diogo Jota',\n",
              "  'Wataru Endo',\n",
              "  'Cody Gakpo',\n",
              "  'Harvey Elliott'],\n",
              " 'squad_num': [1, 4, 7, 11, 2, 5, 26, 8, 10, 17, 9, 20, 3, 18, 19],\n",
              " 'position': ('Goalkeeper',\n",
              "  'Defender',\n",
              "  'Forward',\n",
              "  'Winger',\n",
              "  'Defender',\n",
              "  'Defender',\n",
              "  'Defender',\n",
              "  'Midfielder',\n",
              "  'Midfielder',\n",
              "  'Midfielder',\n",
              "  'Forward',\n",
              "  'Forward',\n",
              "  'Midfielder',\n",
              "  'Forward',\n",
              "  'Midfielder'),\n",
              " 'Nationality': ['Brazil',\n",
              "  'Netherlands',\n",
              "  'Colombia',\n",
              "  'Egypt',\n",
              "  'England',\n",
              "  'France',\n",
              "  'Scotland',\n",
              "  'Hungary',\n",
              "  'Argentina',\n",
              "  'England',\n",
              "  'Uruguay',\n",
              "  'Portugal',\n",
              "  'Japan',\n",
              "  'Netherlands',\n",
              "  'England']}"
            ]
          },
          "metadata": {},
          "execution_count": 2
        }
      ]
    },
    {
      "cell_type": "code",
      "source": [
        "Guvi_Emp={\n",
        "    \"EmpID\":[1089,1198,1123,1145,1136,1190],\n",
        "    \"Name\":['Kishore','Ganesh','Magesh','manoj','praneesh','Anand'],\n",
        "    'desingnation':['Developer','Tester','Developer','Developer','Developer','Tester'],\n",
        "    'salary': [25000,30000,15000,18000,19000,35000],\n",
        "\n",
        "}\n"
      ],
      "metadata": {
        "id": "VmdIy-hzItMB"
      },
      "execution_count": null,
      "outputs": []
    },
    {
      "cell_type": "code",
      "source": [
        "LFC = {\n",
        "    'squad_num': [1, 4, 7, 11,2, 5, 26, 8,10, 17, 9, 20, 3, 18, 19 ],\n",
        "    'Name': [\"Alisson\", \"Virgil van Dijk\", \"Luis Díaz\", \"Mohamed Salah\",\"Joe Gomez\", \"Ibrahima Konaté\", \"Andy Robertson\",\"Dominik Szoboszlai\",\n",
        "    \"Alexis Mac Allister\", \"Curtis Jones\", \"Darwin Núñez\", \"Diogo Jota\",\"Wataru Endo\", \"Cody Gakpo\", \"Harvey Elliott\" ],\n",
        "    'position': [\"Goalkeeper\", \"Defender\", \"Forward\", \"Winger\",\"Defender\", \"Defender\", \"Defender\", \"Midfielder\",\n",
        "    \"Midfielder\", \"Midfielder\", \"Forward\", \"Forward\",\"Midfielder\", \"Forward\", \"Midfielder\" ],\n",
        "    'Nationality': [\"Brazil\", \"Netherlands\", \"Colombia\", \"Egypt\",\"England\", \"France\", \"Scotland\", \"Hungary\",\n",
        "    \"Argentina\", \"England\", \"Uruguay\", \"Portugal\",\"Japan\", \"Netherlands\", \"England\"]}\n",
        "\n",
        "\n"
      ],
      "metadata": {
        "id": "X45YwSF0oqF1"
      },
      "execution_count": null,
      "outputs": []
    },
    {
      "cell_type": "code",
      "source": [
        "PlayersquadID=int(input(\"Enter Squad number: \"))\n",
        "Pos=LFC['squad_num'].index(PlayersquadID) # Find the position of the player in the list using their squad number\n",
        "Pos\n",
        "\n",
        "print(f\"Player jersey Number ------->: {PlayersquadID}\")\n",
        "print(f\"Name : {LFC['Name'][Pos]}\")\n",
        "print(f\"Nationality:{LFC['Nationality'][Pos]}\")\n",
        "print(f\"position: {LFC['position'][Pos]}\")"
      ],
      "metadata": {
        "colab": {
          "base_uri": "https://localhost:8080/"
        },
        "id": "djPhgVN4q2hx",
        "outputId": "20fb5d10-c3bc-49b1-e97d-e2902af9186c"
      },
      "execution_count": null,
      "outputs": [
        {
          "output_type": "stream",
          "name": "stdout",
          "text": [
            "Enter Squad number: 8\n",
            "Player jersey Number ------->: 8\n",
            "Name : Dominik Szoboszlai\n",
            "Nationality:Hungary\n",
            "position: Midfielder\n"
          ]
        }
      ]
    },
    {
      "cell_type": "code",
      "source": [
        "# Condition Statement\n"
      ],
      "metadata": {
        "id": "_ZxVS-W5qq4d"
      },
      "execution_count": null,
      "outputs": []
    },
    {
      "cell_type": "markdown",
      "source": [],
      "metadata": {
        "id": "5ftEkxH_XR8z"
      }
    },
    {
      "cell_type": "code",
      "source": [
        "Age=int(input(\"Enter Age:\"))\n",
        "if Age>18 and Age<35:\n",
        "    print(\"allow\")\n",
        "else:\n",
        "  print (\"veliya poda\")\n"
      ],
      "metadata": {
        "colab": {
          "base_uri": "https://localhost:8080/"
        },
        "id": "HymsL8lkXWmh",
        "outputId": "cb4d1105-f9f5-42d3-f54a-7490163ee3f3"
      },
      "execution_count": null,
      "outputs": [
        {
          "output_type": "stream",
          "name": "stdout",
          "text": [
            "Enter Age:36\n",
            "veliya poda\n"
          ]
        }
      ]
    },
    {
      "cell_type": "code",
      "source": [
        "Mark=int(input(\"Enter Your score : \"))\n",
        "if Mark >=35:print(\"passed\")\n",
        "else: print(\"better luck nxt time\")"
      ],
      "metadata": {
        "colab": {
          "base_uri": "https://localhost:8080/"
        },
        "id": "d3-aocp3Y7g3",
        "outputId": "efa580b9-5e66-429d-cf30-5f857807e27d"
      },
      "execution_count": null,
      "outputs": [
        {
          "output_type": "stream",
          "name": "stdout",
          "text": [
            "Enter Your score : 18\n",
            "better luck nxt time\n"
          ]
        }
      ]
    },
    {
      "cell_type": "code",
      "source": [
        "# 100 - 90 doctor,89- 70 engineer,69 - 40 diploma 39-0 fail"
      ],
      "metadata": {
        "id": "dXKmFNxKahuK"
      },
      "execution_count": null,
      "outputs": []
    },
    {
      "cell_type": "code",
      "source": [
        "Name=input(\"Enter Your Name : \")\n",
        "Mark=int(input(\"Enter Your score : \"))\n",
        "if Mark>=90 :\n",
        "  print(f\"{Name} Your Mark is {Mark} and You are eligible for doctor\")\n",
        "\n",
        "elif Mark>=70 and Mark<90:\n",
        "  print(f\"{Name} Your Mark is {Mark} and You are eligible for engineer\")\n",
        "\n",
        "elif Mark>=40 and Mark<70:\n",
        "  print(f\"{Name} Your Mark is {Mark} and You are eligible for diploma\")\n",
        "\n",
        "else:\n",
        "  print(f\"{Name} Your Mark is {Mark} and You are fail\")"
      ],
      "metadata": {
        "colab": {
          "base_uri": "https://localhost:8080/"
        },
        "id": "QRtdN127cU6M",
        "outputId": "8435d200-550c-4c13-8361-fe864380a7e3"
      },
      "execution_count": null,
      "outputs": [
        {
          "output_type": "stream",
          "name": "stdout",
          "text": [
            "Enter Your Name : siva\n",
            "Enter Your score : 89\n",
            "siva Your Mark is 89 and You are eligible for engineer\n"
          ]
        }
      ]
    },
    {
      "cell_type": "code",
      "source": [
        "## 100 - 90 doctor With NEET score >90 for eligible\n",
        "\n",
        "Name=input(\"Enter Your Name : \")\n",
        "Mark=int(input(\"Enter Your score : \"))\n",
        "if Mark>=90 and Mark<100:\n",
        "  NEET=int(input(\"Enter Your NEET score : \"))\n",
        "  if NEET>90:\n",
        "     print(f\"{Name} Your Mark is {Mark} and You are eligible for doctor\")\n",
        "  else :\n",
        "    print(f\"{Name} Your Neet score is {NEET} And sorry your are Not eligible for doctor\")\n",
        "\n",
        "elif Mark>=70 and Mark<90:\n",
        "  print(f\"{Name} Your Mark is {Mark} and You are eligible for engineer\")\n",
        "\n",
        "elif Mark>=40 and Mark<70:\n",
        "  print(f\"{Name} Your Mark is {Mark} and You are eligible for diploma\")\n",
        "\n",
        "else:\n",
        "  print(f\"{Name} Your Mark is {Mark} and You are fail\")\n",
        "\n"
      ],
      "metadata": {
        "colab": {
          "base_uri": "https://localhost:8080/"
        },
        "id": "e1nMrReuepQU",
        "outputId": "4d1d540b-22d5-4aa3-a60e-f8a281fc4a6c"
      },
      "execution_count": null,
      "outputs": [
        {
          "output_type": "stream",
          "name": "stdout",
          "text": [
            "Enter Your Name : siba\n",
            "Enter Your score : 41\n",
            "siba Your Mark is 41 and You are eligible for diploma\n"
          ]
        }
      ]
    },
    {
      "cell_type": "code",
      "source": [
        "Name=input(\"Enter Your Name : \")\n",
        "Mark=int(input(\"Enter Your score : \"))\n",
        "NEET=int(input(\"Enter Your NEET score : \"))\n",
        "if Mark>=90 and NEET>=90 and \"a\" in Name:\n",
        "  print(f\"{Name} Your Mark is {Mark} and  {NEET} percent scored in your neet entance and congrats You are eligible for doctor\")\n",
        "else:\n",
        "  print(f\"{Name} Sorry You are not eligible for doctor\")\n"
      ],
      "metadata": {
        "colab": {
          "base_uri": "https://localhost:8080/"
        },
        "id": "4NeRzV3CcdDw",
        "outputId": "04598ba7-658f-4e1e-82ed-c6e40c237dcd"
      },
      "execution_count": null,
      "outputs": [
        {
          "output_type": "stream",
          "name": "stdout",
          "text": [
            "Enter Your Name : moorthy\n",
            "Enter Your score : 99\n",
            "Enter Your NEET score : 99\n",
            "moorthy Sorry You are not eligible for doctor\n"
          ]
        }
      ]
    },
    {
      "cell_type": "code",
      "source": [],
      "metadata": {
        "id": "C3GaziGHk9gX"
      },
      "execution_count": null,
      "outputs": []
    },
    {
      "cell_type": "markdown",
      "source": [
        "# Loops\n",
        "\n"
      ],
      "metadata": {
        "id": "N49coXQAliLV"
      }
    },
    {
      "cell_type": "markdown",
      "source": [
        "## loop\n",
        "\n",
        "1. For loop\n",
        "2. While Loop"
      ],
      "metadata": {
        "id": "oEl7OSopv-N5"
      }
    },
    {
      "cell_type": "code",
      "source": [
        "#for loop start with FOR\n",
        "\n",
        "Name = [\"dhoni\",\"bravo\",\"morkel\",\"hussey\"]\n",
        "for i in Name:\n",
        " print(i)"
      ],
      "metadata": {
        "colab": {
          "base_uri": "https://localhost:8080/"
        },
        "id": "9gSTNcPcwE5b",
        "outputId": "19b83612-dbc0-4dff-f155-82fdb0e9e09f"
      },
      "execution_count": null,
      "outputs": [
        {
          "output_type": "stream",
          "name": "stdout",
          "text": [
            "dhoni\n",
            "bravo\n",
            "morkel\n",
            "hussey\n"
          ]
        }
      ]
    },
    {
      "cell_type": "code",
      "source": [
        "Name = [\"dhoni\",\"bravo\",\"morkel\",\"hussey\"]\n",
        "for i in Name:\n",
        " print(Name)"
      ],
      "metadata": {
        "colab": {
          "base_uri": "https://localhost:8080/"
        },
        "id": "aaOff6IVx8-T",
        "outputId": "d42d908e-e969-4228-aca8-3708f000b603"
      },
      "execution_count": null,
      "outputs": [
        {
          "output_type": "stream",
          "name": "stdout",
          "text": [
            "['dhoni', 'bravo', 'morkel', 'hussey']\n",
            "['dhoni', 'bravo', 'morkel', 'hussey']\n",
            "['dhoni', 'bravo', 'morkel', 'hussey']\n",
            "['dhoni', 'bravo', 'morkel', 'hussey']\n"
          ]
        }
      ]
    },
    {
      "cell_type": "code",
      "source": [
        "A=888\n",
        "A%2"
      ],
      "metadata": {
        "colab": {
          "base_uri": "https://localhost:8080/"
        },
        "id": "PbsSguUwQ_eD",
        "outputId": "f8a756f8-664c-4eb0-da05-17177430ed21"
      },
      "execution_count": null,
      "outputs": [
        {
          "output_type": "execute_result",
          "data": {
            "text/plain": [
              "0"
            ]
          },
          "metadata": {},
          "execution_count": 14
        }
      ]
    },
    {
      "cell_type": "code",
      "source": [
        "print(A/2)\n",
        "print(A//2)\n",
        "print(A%2)"
      ],
      "metadata": {
        "colab": {
          "base_uri": "https://localhost:8080/"
        },
        "id": "u8OAIPUJRr3P",
        "outputId": "05d61b4a-0d29-4888-9c82-f5e53527666a"
      },
      "execution_count": null,
      "outputs": [
        {
          "output_type": "stream",
          "name": "stdout",
          "text": [
            "444.0\n",
            "444\n",
            "0\n"
          ]
        }
      ]
    },
    {
      "cell_type": "code",
      "source": [
        "Num=[10,13,15,14,16,17,18,19,20]\n",
        "if A%2==0 :\n",
        "  print('even')\n",
        "else:\n",
        "  print(\"odd\")"
      ],
      "metadata": {
        "colab": {
          "base_uri": "https://localhost:8080/"
        },
        "id": "yRdEfC80RRJK",
        "outputId": "0d167ff4-8f87-4457-e2e7-106a03bc4c45"
      },
      "execution_count": null,
      "outputs": [
        {
          "output_type": "stream",
          "name": "stdout",
          "text": [
            "even\n"
          ]
        }
      ]
    },
    {
      "cell_type": "code",
      "source": [
        "A=[10,13,15,14,16,17,18,19,20]\n",
        "\n",
        "for n in A:\n",
        "\n",
        " if n%2 ==0:\n",
        "  print(f'{n} is even')\n",
        "else:\n",
        "  print(f\"{n} is odd\")"
      ],
      "metadata": {
        "colab": {
          "base_uri": "https://localhost:8080/"
        },
        "id": "fRoi2bH1S6VG",
        "outputId": "7889dcb4-1ab8-4578-d529-b844171ecad4"
      },
      "execution_count": null,
      "outputs": [
        {
          "output_type": "stream",
          "name": "stdout",
          "text": [
            "10 is even\n",
            "14 is even\n",
            "16 is even\n",
            "18 is even\n",
            "20 is even\n",
            "20 is odd\n"
          ]
        }
      ]
    },
    {
      "cell_type": "code",
      "source": [
        "Nums=[10,20,39,67,78,44,25,22,68]\n",
        "for n in Nums:\n",
        "  if n%2==0:\n",
        "    print(f\"{n} is even\")\n",
        "  else:\n",
        "     print(f\"{n} is odd\")\n"
      ],
      "metadata": {
        "colab": {
          "base_uri": "https://localhost:8080/"
        },
        "id": "Hm9jshOdVn1-",
        "outputId": "8c3a2bf2-097b-4adb-dc14-78763c62d588"
      },
      "execution_count": null,
      "outputs": [
        {
          "output_type": "stream",
          "name": "stdout",
          "text": [
            "10 is even\n",
            "20 is even\n",
            "39 is odd\n",
            "67 is odd\n",
            "78 is even\n",
            "44 is even\n",
            "25 is odd\n",
            "22 is even\n",
            "68 is even\n"
          ]
        }
      ]
    },
    {
      "cell_type": "code",
      "source": [],
      "metadata": {
        "id": "qGjR1kWOTuIi"
      },
      "execution_count": null,
      "outputs": []
    },
    {
      "cell_type": "code",
      "source": [
        "Nums=[10,20,39,67,78,44,25,22,68]\n",
        "for n in Nums:\n",
        "  if n%3==0:\n",
        "    print(f\"{n} is even\")\n",
        "  else:\n",
        "     print(f\"{n} is odd\")"
      ],
      "metadata": {
        "id": "Rcz6ibpHXYNU",
        "outputId": "0e63285e-85cb-4adb-d604-aa3c46ca5ecc",
        "colab": {
          "base_uri": "https://localhost:8080/"
        }
      },
      "execution_count": null,
      "outputs": [
        {
          "output_type": "stream",
          "name": "stdout",
          "text": [
            "10 is odd\n",
            "20 is odd\n",
            "39 is even\n",
            "67 is odd\n",
            "78 is even\n",
            "44 is odd\n",
            "25 is odd\n",
            "22 is odd\n",
            "68 is odd\n"
          ]
        }
      ]
    },
    {
      "cell_type": "code",
      "source": [
        "nums = [27, 84, 56, 91, 73, 65, 48, 59, 33, 76, 88, 42, 95, 69, 53, 61, 87, 79, 68, 99,0]\n",
        "div_by_3 = []\n",
        "div_by_5 = []\n",
        "div_by_7 = []\n",
        "for num in nums:\n",
        "    if num % 3 == 0:\n",
        "        div_by_3.append(num)\n",
        "    if num % 5 == 0:\n",
        "        div_by_5.append(num)\n",
        "    if num % 7 == 0:\n",
        "        div_by_7.append(num)\n",
        "\n",
        "print( div_by_3)\n",
        "print( div_by_5)\n",
        "print (div_by_7)"
      ],
      "metadata": {
        "id": "iQqhpDj9XZdm",
        "colab": {
          "base_uri": "https://localhost:8080/"
        },
        "outputId": "ddb1d742-a4be-407d-962f-13f151808bef"
      },
      "execution_count": null,
      "outputs": [
        {
          "output_type": "stream",
          "name": "stdout",
          "text": [
            "[27, 84, 48, 33, 42, 69, 87, 99, 0]\n",
            "[65, 95, 0]\n",
            "[84, 56, 91, 42, 0]\n"
          ]
        }
      ]
    },
    {
      "cell_type": "code",
      "source": [
        "A=[]\n",
        "A.append(\"siva\")\n",
        "A.append(\"kumar\")\n"
      ],
      "metadata": {
        "id": "r-sS2aoVxj2x"
      },
      "execution_count": null,
      "outputs": []
    },
    {
      "cell_type": "code",
      "source": [
        "A"
      ],
      "metadata": {
        "colab": {
          "base_uri": "https://localhost:8080/"
        },
        "id": "0Ogc6jEFxo1p",
        "outputId": "6ee34d86-787b-429f-c493-17ee34205c69"
      },
      "execution_count": null,
      "outputs": [
        {
          "output_type": "execute_result",
          "data": {
            "text/plain": [
              "['siva', 'kumar']"
            ]
          },
          "metadata": {},
          "execution_count": 19
        }
      ]
    }
  ]
}