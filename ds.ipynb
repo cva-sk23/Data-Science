{
  "nbformat": 4,
  "nbformat_minor": 0,
  "metadata": {
    "colab": {
      "provenance": [],
      "toc_visible": true,
      "authorship_tag": "ABX9TyN74HBY/I1bDYxAiwJ46/VI",
      "include_colab_link": true
    },
    "kernelspec": {
      "name": "python3",
      "display_name": "Python 3"
    },
    "language_info": {
      "name": "python"
    }
  },
  "cells": [
    {
      "cell_type": "markdown",
      "metadata": {
        "id": "view-in-github",
        "colab_type": "text"
      },
      "source": [
        "<a href=\"https://colab.research.google.com/github/cva-sk23/Data-Science/blob/main/ds.ipynb\" target=\"_parent\"><img src=\"https://colab.research.google.com/assets/colab-badge.svg\" alt=\"Open In Colab\"/></a>"
      ]
    },
    {
      "cell_type": "code",
      "execution_count": null,
      "metadata": {
        "id": "h7D2WCWIFLvP"
      },
      "outputs": [],
      "source": [
        "LFC = {\n",
        "    'Name': [\"Alisson\", \"Virgil van Dijk\", \"Luis Díaz\", \"Mohamed Salah\",\"Joe Gomez\", \"Ibrahima Konaté\", \"Andy Robertson\",\"Dominik Szoboszlai\",\n",
        "    \"Alexis Mac Allister\", \"Curtis Jones\", \"Darwin Núñez\", \"Diogo Jota\",\"Wataru Endo\", \"Cody Gakpo\", \"Harvey Elliott\" ],\n",
        "    'squad_num': [1, 4, 7, 11,2, 5, 26, 8,10, 17, 9, 20, 3, 18, 19 ],\n",
        "    'position': ( \"Goalkeeper\", \"Defender\", \"Forward\", \"Winger\",\"Defender\", \"Defender\", \"Defender\", \"Midfielder\",\n",
        "    \"Midfielder\", \"Midfielder\", \"Forward\", \"Forward\",\"Midfielder\", \"Forward\", \"Midfielder\" ),\n",
        "    'Nationality': [\"Brazil\", \"Netherlands\", \"Colombia\", \"Egypt\",\"England\", \"France\", \"Scotland\", \"Hungary\",\n",
        "    \"Argentina\", \"England\", \"Uruguay\", \"Portugal\",\"Japan\", \"Netherlands\", \"England\"]}\n"
      ]
    },
    {
      "cell_type": "code",
      "source": [
        "LFC"
      ],
      "metadata": {
        "id": "8MNtqUB_K2tf"
      },
      "execution_count": null,
      "outputs": []
    },
    {
      "cell_type": "code",
      "source": [
        "Guvi_Emp={\n",
        "    \"EmpID\":[1089,1198,1123,1145,1136,1190],\n",
        "    \"Name\":['Kishore','Ganesh','Magesh','manoj','praneesh','Anand'],\n",
        "    'desingnation':['Developer','Tester','Developer','Developer','Developer','Tester'],\n",
        "    'salary': [25000,30000,15000,18000,19000,35000],\n",
        "\n",
        "}\n"
      ],
      "metadata": {
        "id": "VmdIy-hzItMB"
      },
      "execution_count": null,
      "outputs": []
    },
    {
      "cell_type": "code",
      "source": [
        "LFC = {\n",
        "    'squad_num': [1, 4, 7, 11,2, 5, 26, 8,10, 17, 9, 20, 3, 18, 19 ],\n",
        "    'Name': [\"Alisson\", \"Virgil van Dijk\", \"Luis Díaz\", \"Mohamed Salah\",\"Joe Gomez\", \"Ibrahima Konaté\", \"Andy Robertson\",\"Dominik Szoboszlai\",\n",
        "    \"Alexis Mac Allister\", \"Curtis Jones\", \"Darwin Núñez\", \"Diogo Jota\",\"Wataru Endo\", \"Cody Gakpo\", \"Harvey Elliott\" ],\n",
        "    'position': [\"Goalkeeper\", \"Defender\", \"Forward\", \"Winger\",\"Defender\", \"Defender\", \"Defender\", \"Midfielder\",\n",
        "    \"Midfielder\", \"Midfielder\", \"Forward\", \"Forward\",\"Midfielder\", \"Forward\", \"Midfielder\" ],\n",
        "    'Nationality': [\"Brazil\", \"Netherlands\", \"Colombia\", \"Egypt\",\"England\", \"France\", \"Scotland\", \"Hungary\",\n",
        "    \"Argentina\", \"England\", \"Uruguay\", \"Portugal\",\"Japan\", \"Netherlands\", \"England\"]}\n",
        "\n",
        "\n"
      ],
      "metadata": {
        "id": "X45YwSF0oqF1"
      },
      "execution_count": null,
      "outputs": []
    },
    {
      "cell_type": "code",
      "source": [
        "PlayersquadID=int(input(\"Enter Squad number: \"))\n",
        "Pos=LFC['squad_num'].index(PlayersquadID) # Find the position of the player in the list using their squad number\n",
        "Pos\n",
        "\n",
        "print(f\"Player jersey Number ------->: {PlayersquadID}\")\n",
        "print(f\"Name : {LFC['Name'][Pos]}\")\n",
        "print(f\"Nationality:{LFC['Nationality'][Pos]}\")\n",
        "print(f\"position: {LFC['position'][Pos]}\")"
      ],
      "metadata": {
        "id": "djPhgVN4q2hx"
      },
      "execution_count": null,
      "outputs": []
    },
    {
      "cell_type": "code",
      "source": [
        "# Condition Statement\n"
      ],
      "metadata": {
        "id": "_ZxVS-W5qq4d"
      },
      "execution_count": null,
      "outputs": []
    },
    {
      "cell_type": "markdown",
      "source": [],
      "metadata": {
        "id": "5ftEkxH_XR8z"
      }
    },
    {
      "cell_type": "code",
      "source": [
        "Age=int(input(\"Enter Age:\"))\n",
        "if Age>18 and Age<35:\n",
        "    print(\"allow\")\n",
        "else:\n",
        "  print (\"veliya poda\")\n"
      ],
      "metadata": {
        "id": "HymsL8lkXWmh"
      },
      "execution_count": null,
      "outputs": []
    },
    {
      "cell_type": "code",
      "source": [
        "Mark=int(input(\"Enter Your score : \"))\n",
        "if Mark >=35:print(\"passed\")\n",
        "else: print(\"better luck nxt time\")"
      ],
      "metadata": {
        "id": "d3-aocp3Y7g3"
      },
      "execution_count": null,
      "outputs": []
    },
    {
      "cell_type": "code",
      "source": [
        "# 100 - 90 doctor,89- 70 engineer,69 - 40 diploma 39-0 fail"
      ],
      "metadata": {
        "id": "dXKmFNxKahuK"
      },
      "execution_count": null,
      "outputs": []
    },
    {
      "cell_type": "code",
      "source": [
        "Name=input(\"Enter Your Name : \")\n",
        "Mark=int(input(\"Enter Your score : \"))\n",
        "if Mark>=90 :\n",
        "  print(f\"{Name} Your Mark is {Mark} and You are eligible for doctor\")\n",
        "\n",
        "elif Mark>=70 and Mark<90:\n",
        "  print(f\"{Name} Your Mark is {Mark} and You are eligible for engineer\")\n",
        "\n",
        "elif Mark>=40 and Mark<70:\n",
        "  print(f\"{Name} Your Mark is {Mark} and You are eligible for diploma\")\n",
        "\n",
        "else:\n",
        "  print(f\"{Name} Your Mark is {Mark} and You are fail\")"
      ],
      "metadata": {
        "id": "QRtdN127cU6M"
      },
      "execution_count": null,
      "outputs": []
    },
    {
      "cell_type": "code",
      "source": [
        "## 100 - 90 doctor With NEET score >90 for eligible\n",
        "\n",
        "Name=input(\"Enter Your Name : \")\n",
        "Mark=int(input(\"Enter Your score : \"))\n",
        "if Mark>=90 and Mark<100:\n",
        "  NEET=int(input(\"Enter Your NEET score : \"))\n",
        "  if NEET>90:\n",
        "     print(f\"{Name} Your Mark is {Mark} and You are eligible for doctor\")\n",
        "  else :\n",
        "    print(f\"{Name} Your Neet score is {NEET} And sorry your are Not eligible for doctor\")\n",
        "\n",
        "elif Mark>=70 and Mark<90:\n",
        "  print(f\"{Name} Your Mark is {Mark} and You are eligible for engineer\")\n",
        "\n",
        "elif Mark>=40 and Mark<70:\n",
        "  print(f\"{Name} Your Mark is {Mark} and You are eligible for diploma\")\n",
        "\n",
        "else:\n",
        "  print(f\"{Name} Your Mark is {Mark} and You are fail\")\n",
        "\n"
      ],
      "metadata": {
        "id": "e1nMrReuepQU"
      },
      "execution_count": null,
      "outputs": []
    },
    {
      "cell_type": "code",
      "source": [
        "Name=input(\"Enter Your Name : \")\n",
        "Mark=int(input(\"Enter Your score : \"))\n",
        "NEET=int(input(\"Enter Your NEET score : \"))\n",
        "if Mark>=90 and NEET>=90 and \"a\" in Name:\n",
        "  print(f\"{Name} Your Mark is {Mark} and  {NEET} percent scored in your neet entance and congrats You are eligible for doctor\")\n",
        "else:\n",
        "  print(f\"{Name} Sorry You are not eligible for doctor\")\n"
      ],
      "metadata": {
        "id": "4NeRzV3CcdDw"
      },
      "execution_count": null,
      "outputs": []
    },
    {
      "cell_type": "code",
      "source": [],
      "metadata": {
        "id": "C3GaziGHk9gX"
      },
      "execution_count": null,
      "outputs": []
    },
    {
      "cell_type": "markdown",
      "source": [
        "# Loops\n",
        "\n"
      ],
      "metadata": {
        "id": "N49coXQAliLV"
      }
    },
    {
      "cell_type": "markdown",
      "source": [
        "## loop\n",
        "\n",
        "1. For loop\n",
        "2. While Loop"
      ],
      "metadata": {
        "id": "oEl7OSopv-N5"
      }
    },
    {
      "cell_type": "code",
      "source": [
        "#for loop start with FOR\n",
        "\n",
        "Name = [\"dhoni\",\"bravo\",\"morkel\",\"hussey\"]\n",
        "for i in Name:\n",
        " print(i)"
      ],
      "metadata": {
        "id": "9gSTNcPcwE5b"
      },
      "execution_count": null,
      "outputs": []
    },
    {
      "cell_type": "code",
      "source": [
        "Name = [\"dhoni\",\"bravo\",\"morkel\",\"hussey\"]\n",
        "for i in Name:\n",
        " print(Name)"
      ],
      "metadata": {
        "id": "aaOff6IVx8-T"
      },
      "execution_count": null,
      "outputs": []
    },
    {
      "cell_type": "code",
      "source": [
        "A=888\n",
        "A%2"
      ],
      "metadata": {
        "id": "PbsSguUwQ_eD"
      },
      "execution_count": null,
      "outputs": []
    },
    {
      "cell_type": "code",
      "source": [
        "print(A/2)\n",
        "print(A//2)\n",
        "print(A%2)"
      ],
      "metadata": {
        "id": "u8OAIPUJRr3P"
      },
      "execution_count": null,
      "outputs": []
    },
    {
      "cell_type": "code",
      "source": [
        "Num=[10,13,15,14,16,17,18,19,20]\n",
        "if A%2==0 :\n",
        "  print('even')\n",
        "else:\n",
        "  print(\"odd\")"
      ],
      "metadata": {
        "id": "yRdEfC80RRJK"
      },
      "execution_count": null,
      "outputs": []
    },
    {
      "cell_type": "code",
      "source": [
        "A=[10,13,15,14,16,17,18,19,20]\n",
        "\n",
        "for n in A:\n",
        "\n",
        " if n%2 ==0:\n",
        "  print(f'{n} is even')\n",
        "else:\n",
        "  print(f\"{n} is odd\")"
      ],
      "metadata": {
        "id": "fRoi2bH1S6VG"
      },
      "execution_count": null,
      "outputs": []
    },
    {
      "cell_type": "code",
      "source": [
        "Nums=[10,20,39,67,78,44,25,22,68]\n",
        "for n in Nums:\n",
        "  if n%2==0:\n",
        "    print(f\"{n} is even\")\n",
        "  else:\n",
        "     print(f\"{n} is odd\")\n"
      ],
      "metadata": {
        "id": "Hm9jshOdVn1-"
      },
      "execution_count": null,
      "outputs": []
    },
    {
      "cell_type": "code",
      "source": [],
      "metadata": {
        "id": "qGjR1kWOTuIi"
      },
      "execution_count": null,
      "outputs": []
    },
    {
      "cell_type": "code",
      "source": [
        "Nums=[10,20,39,67,78,44,25,22,68]\n",
        "for n in Nums:\n",
        "  if n%3==0:\n",
        "    print(f\"{n} is even\")\n",
        "  else:\n",
        "     print(f\"{n} is odd\")"
      ],
      "metadata": {
        "id": "Rcz6ibpHXYNU",
        "outputId": "3076ee0d-f4bf-4e62-8750-fb659466a370",
        "colab": {
          "base_uri": "https://localhost:8080/"
        }
      },
      "execution_count": 15,
      "outputs": [
        {
          "output_type": "stream",
          "name": "stdout",
          "text": [
            "10 is odd\n",
            "20 is odd\n",
            "39 is even\n",
            "67 is odd\n",
            "78 is even\n",
            "44 is odd\n",
            "25 is odd\n",
            "22 is odd\n",
            "68 is odd\n"
          ]
        }
      ]
    },
    {
      "cell_type": "code",
      "source": [
        "len(Nums)"
      ],
      "metadata": {
        "colab": {
          "base_uri": "https://localhost:8080/"
        },
        "id": "abez4kJ7cqi7",
        "outputId": "d2d38349-bb52-4fa8-f06d-cb49f9e0d768"
      },
      "execution_count": 16,
      "outputs": [
        {
          "output_type": "execute_result",
          "data": {
            "text/plain": [
              "9"
            ]
          },
          "metadata": {},
          "execution_count": 16
        }
      ]
    },
    {
      "cell_type": "code",
      "source": [
        "nums = [27, 84, 56, 91, 73, 65, 48, 59, 33, 76, 88, 42, 95, 69, 53, 61, 87, 79, 68, 99,0]\n",
        "div_by_3 = []\n",
        "div_by_5 = []\n",
        "div_by_7 = []\n",
        "for num in nums:\n",
        "    if num % 3 == 0:\n",
        "        div_by_3.append(num)\n",
        "    if num % 5 == 0:\n",
        "        div_by_5.append(num)\n",
        "    if num % 7 == 0:\n",
        "        div_by_7.append(num)\n",
        "\n",
        "print( div_by_3)\n",
        "print( div_by_5)\n",
        "print (div_by_7)"
      ],
      "metadata": {
        "id": "iQqhpDj9XZdm",
        "colab": {
          "base_uri": "https://localhost:8080/"
        },
        "outputId": "09f78ff3-d9bf-4e6c-b231-2868e3e0593f"
      },
      "execution_count": 17,
      "outputs": [
        {
          "output_type": "stream",
          "name": "stdout",
          "text": [
            "[27, 84, 48, 33, 42, 69, 87, 99, 0]\n",
            "[65, 95, 0]\n",
            "[84, 56, 91, 42, 0]\n"
          ]
        }
      ]
    },
    {
      "cell_type": "code",
      "source": [
        "A=[]\n",
        "A.append(\"siva\")\n",
        "A.append(\"kumar\")\n"
      ],
      "metadata": {
        "id": "r-sS2aoVxj2x"
      },
      "execution_count": null,
      "outputs": []
    },
    {
      "cell_type": "code",
      "source": [
        "B=[]\n",
        "B.append(\"Ms\")\n",
        "B.append(\"Dhoni\")\n",
        "B.append(\"#IND\")"
      ],
      "metadata": {
        "id": "0Ogc6jEFxo1p"
      },
      "execution_count": null,
      "outputs": []
    },
    {
      "cell_type": "code",
      "source": [
        "print(\" \".join(B))"
      ],
      "metadata": {
        "id": "p7_Q8A7qHBRE"
      },
      "execution_count": null,
      "outputs": []
    },
    {
      "cell_type": "code",
      "source": [
        "#print from 1 to 10\n",
        "#print from 1 to 10\n",
        "\n",
        "for i in range(1,11):\n",
        "  print(i)"
      ],
      "metadata": {
        "id": "Cln8X2L6HM4_"
      },
      "execution_count": null,
      "outputs": []
    },
    {
      "cell_type": "code",
      "source": [
        "for n in range(2,21,2):\n",
        "    print(n)"
      ],
      "metadata": {
        "id": "ImiuTDnyKF5v"
      },
      "execution_count": null,
      "outputs": []
    },
    {
      "cell_type": "code",
      "source": [
        "for w in range(100,0,-10):   #reverse loop\n",
        "  print(w,end=\" \")\n"
      ],
      "metadata": {
        "id": "MYRw9wNgKz5-"
      },
      "execution_count": null,
      "outputs": []
    },
    {
      "cell_type": "code",
      "source": [
        "w=int(input(\"Enter Number\"))\n",
        "for w in range(100,w,-2):\n",
        "  print(w)"
      ],
      "metadata": {
        "colab": {
          "base_uri": "https://localhost:8080/"
        },
        "id": "JpztF3Q0NMLk",
        "outputId": "fd8cc64b-d861-4921-8d6a-252ecb520c89"
      },
      "execution_count": 7,
      "outputs": [
        {
          "output_type": "stream",
          "name": "stdout",
          "text": [
            "Enter Number50\n",
            "100\n",
            "98\n",
            "96\n",
            "94\n",
            "92\n",
            "90\n",
            "88\n",
            "86\n",
            "84\n",
            "82\n",
            "80\n",
            "78\n",
            "76\n",
            "74\n",
            "72\n",
            "70\n",
            "68\n",
            "66\n",
            "64\n",
            "62\n",
            "60\n",
            "58\n",
            "56\n",
            "54\n",
            "52\n"
          ]
        }
      ]
    },
    {
      "cell_type": "code",
      "source": [
        "csk=['jadeja','dhoni','sehwag','sachin','dhoni','virat','dhoni']\n",
        "for i in csk:\n",
        "  if i==\"dhoni\":\n",
        "    print(csk.index(i))"
      ],
      "metadata": {
        "colab": {
          "base_uri": "https://localhost:8080/"
        },
        "id": "olwV6iv7NR_Z",
        "outputId": "3a039267-23e1-480a-8cfd-c57b518a0ea7"
      },
      "execution_count": 8,
      "outputs": [
        {
          "output_type": "stream",
          "name": "stdout",
          "text": [
            "1\n",
            "1\n",
            "1\n"
          ]
        }
      ]
    },
    {
      "cell_type": "code",
      "source": [
        "csk=['jadeja','dhoni','sehwag','sachin','dhoni','virat','dhoni']\n",
        "for i in range(len(csk)):\n",
        "  print(i,csk[i])"
      ],
      "metadata": {
        "colab": {
          "base_uri": "https://localhost:8080/"
        },
        "id": "mGMVO_ZvQ0N2",
        "outputId": "ced2252e-9748-4a5b-d7c8-de677b22bd10"
      },
      "execution_count": 9,
      "outputs": [
        {
          "output_type": "stream",
          "name": "stdout",
          "text": [
            "0 jadeja\n",
            "1 dhoni\n",
            "2 sehwag\n",
            "3 sachin\n",
            "4 dhoni\n",
            "5 virat\n",
            "6 dhoni\n"
          ]
        }
      ]
    },
    {
      "cell_type": "code",
      "source": [
        "csk=['jadeja','dhoni','sehwag','sachin','dhoni','virat','dhoni']\n",
        "for i in range(len(csk)):\n",
        "  if csk[i]==\"dhoni\":\n",
        "    print(i,csk[i])"
      ],
      "metadata": {
        "colab": {
          "base_uri": "https://localhost:8080/"
        },
        "id": "pE8NNsgnTFNB",
        "outputId": "8526e78e-d496-41e4-c9b4-4a46bd968406"
      },
      "execution_count": 10,
      "outputs": [
        {
          "output_type": "stream",
          "name": "stdout",
          "text": [
            "1 dhoni\n",
            "4 dhoni\n",
            "6 dhoni\n"
          ]
        }
      ]
    },
    {
      "cell_type": "code",
      "source": [
        "help(print)"
      ],
      "metadata": {
        "colab": {
          "base_uri": "https://localhost:8080/"
        },
        "id": "XN6vETvyR1Ou",
        "outputId": "c5b5a0b6-750a-4df7-bc37-22ebedd952ba"
      },
      "execution_count": 12,
      "outputs": [
        {
          "output_type": "stream",
          "name": "stdout",
          "text": [
            "Help on built-in function print in module builtins:\n",
            "\n",
            "print(*args, sep=' ', end='\\n', file=None, flush=False)\n",
            "    Prints the values to a stream, or to sys.stdout by default.\n",
            "    \n",
            "    sep\n",
            "      string inserted between values, default a space.\n",
            "    end\n",
            "      string appended after the last value, default a newline.\n",
            "    file\n",
            "      a file-like object (stream); defaults to the current sys.stdout.\n",
            "    flush\n",
            "      whether to forcibly flush the stream.\n",
            "\n"
          ]
        }
      ]
    },
    {
      "cell_type": "code",
      "source": [
        "help(enumerate)"
      ],
      "metadata": {
        "colab": {
          "base_uri": "https://localhost:8080/"
        },
        "id": "lt65WOFKdhGP",
        "outputId": "b551dc14-be94-4af9-fa6d-b24671b305b7"
      },
      "execution_count": 18,
      "outputs": [
        {
          "output_type": "stream",
          "name": "stdout",
          "text": [
            "Help on class enumerate in module builtins:\n",
            "\n",
            "class enumerate(object)\n",
            " |  enumerate(iterable, start=0)\n",
            " |  \n",
            " |  Return an enumerate object.\n",
            " |  \n",
            " |    iterable\n",
            " |      an object supporting iteration\n",
            " |  \n",
            " |  The enumerate object yields pairs containing a count (from start, which\n",
            " |  defaults to zero) and a value yielded by the iterable argument.\n",
            " |  \n",
            " |  enumerate is useful for obtaining an indexed list:\n",
            " |      (0, seq[0]), (1, seq[1]), (2, seq[2]), ...\n",
            " |  \n",
            " |  Methods defined here:\n",
            " |  \n",
            " |  __getattribute__(self, name, /)\n",
            " |      Return getattr(self, name).\n",
            " |  \n",
            " |  __iter__(self, /)\n",
            " |      Implement iter(self).\n",
            " |  \n",
            " |  __next__(self, /)\n",
            " |      Implement next(self).\n",
            " |  \n",
            " |  __reduce__(...)\n",
            " |      Return state information for pickling.\n",
            " |  \n",
            " |  ----------------------------------------------------------------------\n",
            " |  Class methods defined here:\n",
            " |  \n",
            " |  __class_getitem__(...)\n",
            " |      See PEP 585\n",
            " |  \n",
            " |  ----------------------------------------------------------------------\n",
            " |  Static methods defined here:\n",
            " |  \n",
            " |  __new__(*args, **kwargs)\n",
            " |      Create and return a new object.  See help(type) for accurate signature.\n",
            "\n"
          ]
        }
      ]
    },
    {
      "cell_type": "code",
      "source": [
        "csk=['jadeja','dhoni','sehwag','sachin','dhoni','virat','dhoni']\n",
        "for i,player in enumerate(csk):\n",
        "  if player == \"dhoni\":\n",
        "   print(f'index:{i},player:{player}')"
      ],
      "metadata": {
        "colab": {
          "base_uri": "https://localhost:8080/"
        },
        "id": "AYqKrz33dl1A",
        "outputId": "effe5fc0-ba1d-41e4-9096-06c49661765b"
      },
      "execution_count": 26,
      "outputs": [
        {
          "output_type": "stream",
          "name": "stdout",
          "text": [
            "index:1,player:dhoni\n",
            "index:4,player:dhoni\n",
            "index:6,player:dhoni\n"
          ]
        }
      ]
    },
    {
      "cell_type": "markdown",
      "source": [
        "## class 5 doubt @1.10\n"
      ],
      "metadata": {
        "id": "eslIiayr2e0f"
      }
    }
  ]
}