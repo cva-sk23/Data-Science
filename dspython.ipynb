{
 "cells": [
  {
   "cell_type": "markdown",
   "id": "2dbca7a2",
   "metadata": {},
   "source": [
    "# Data science"
   ]
  },
  {
   "cell_type": "code",
   "execution_count": 2,
   "id": "c9c8a77d",
   "metadata": {},
   "outputs": [
    {
     "name": "stdout",
     "output_type": "stream",
     "text": [
      "hello\n"
     ]
    }
   ],
   "source": [
    "print('hello')"
   ]
  },
  {
   "cell_type": "markdown",
   "id": "1d26546a",
   "metadata": {},
   "source": [
    "### Variables"
   ]
  },
  {
   "cell_type": "code",
   "execution_count": 5,
   "id": "3dd1d779",
   "metadata": {},
   "outputs": [],
   "source": [
    "a=10\n",
    "b=\"chennai\"\n",
    "c=343343\n",
    "d=[3,4,3]\n"
   ]
  },
  {
   "cell_type": "code",
   "execution_count": 7,
   "id": "63c6975c",
   "metadata": {},
   "outputs": [
    {
     "name": "stdout",
     "output_type": "stream",
     "text": [
      "10\n",
      "chennai\n",
      "343343\n",
      "[3, 4, 3]\n"
     ]
    }
   ],
   "source": [
    "print(a)\n",
    "print(b)\n",
    "print(c)\n",
    "print(d)"
   ]
  },
  {
   "cell_type": "code",
   "execution_count": 11,
   "id": "333a15a8",
   "metadata": {},
   "outputs": [],
   "source": [
    "user_name=\"aravind\"\n",
    "username1=\"siva\"\n"
   ]
  },
  {
   "cell_type": "code",
   "execution_count": 14,
   "id": "78466f7d",
   "metadata": {},
   "outputs": [
    {
     "name": "stdout",
     "output_type": "stream",
     "text": [
      "70\n"
     ]
    }
   ],
   "source": [
    "a=30\n",
    "a1=40\n",
    "print(a+a1)"
   ]
  },
  {
   "cell_type": "markdown",
   "id": "ca5cb9af",
   "metadata": {},
   "source": [
    "### Data Types"
   ]
  },
  {
   "cell_type": "code",
   "execution_count": null,
   "id": "d3d26a1d",
   "metadata": {},
   "outputs": [],
   "source": [
    "Name= \"siva\" # string \n",
    "age= 36 # integer\n",
    "weight= 80.5 # float\n",
    "result=True  #true/False boolean\n",
    "\n"
   ]
  },
  {
   "cell_type": "markdown",
   "id": "93bf06b6",
   "metadata": {},
   "source": [
    "#sample"
   ]
  },
  {
   "cell_type": "code",
   "execution_count": 25,
   "id": "4190f64c",
   "metadata": {},
   "outputs": [],
   "source": [
    "# mailid string\n",
    "# aadhar Integer\n",
    "# pan string\n",
    "# bank acc integer\n",
    "# ip add string\n"
   ]
  },
  {
   "cell_type": "markdown",
   "id": "b5664f08",
   "metadata": {},
   "source": [
    "### Data Structure"
   ]
  },
  {
   "cell_type": "code",
   "execution_count": 26,
   "id": "2374983d",
   "metadata": {},
   "outputs": [],
   "source": [
    "# list \n",
    "# tuple\n",
    "# set\n",
    "# Dict"
   ]
  },
  {
   "cell_type": "markdown",
   "id": "e08ed283",
   "metadata": {},
   "source": [
    "# list []\n"
   ]
  },
  {
   "cell_type": "code",
   "execution_count": 28,
   "id": "867b17af",
   "metadata": {},
   "outputs": [],
   "source": [
    "list= [27,\"sachin\",245.25,True,[1,2,3,4]]  #list ois mutable, list can store all data types and structures\n"
   ]
  },
  {
   "cell_type": "code",
   "execution_count": 30,
   "id": "898ed2d4",
   "metadata": {},
   "outputs": [
    {
     "data": {
      "text/plain": [
       "245.25"
      ]
     },
     "execution_count": 30,
     "metadata": {},
     "output_type": "execute_result"
    }
   ],
   "source": [
    "list[2]"
   ]
  },
  {
   "cell_type": "code",
   "execution_count": 39,
   "id": "3a1f15e7",
   "metadata": {},
   "outputs": [
    {
     "data": {
      "text/plain": [
       "3"
      ]
     },
     "execution_count": 39,
     "metadata": {},
     "output_type": "execute_result"
    }
   ],
   "source": [
    "list[4][2]"
   ]
  },
  {
   "cell_type": "code",
   "execution_count": 41,
   "id": "88f27ef3",
   "metadata": {},
   "outputs": [
    {
     "data": {
      "text/plain": [
       "'c'"
      ]
     },
     "execution_count": 41,
     "metadata": {},
     "output_type": "execute_result"
    }
   ],
   "source": [
    "list[1][2]"
   ]
  },
  {
   "cell_type": "code",
   "execution_count": 46,
   "id": "df9d9a6b",
   "metadata": {},
   "outputs": [
    {
     "data": {
      "text/plain": [
       "[1, 2, 3, 4, 5, 6, 7, 8, 9, 10]"
      ]
     },
     "execution_count": 46,
     "metadata": {},
     "output_type": "execute_result"
    }
   ],
   "source": [
    "list2=[1,2,3,4,5,6,7,8,9,10]\n",
    "list2"
   ]
  },
  {
   "cell_type": "code",
   "execution_count": 45,
   "id": "ef6981fe",
   "metadata": {},
   "outputs": [
    {
     "data": {
      "text/plain": [
       "9"
      ]
     },
     "execution_count": 45,
     "metadata": {},
     "output_type": "execute_result"
    }
   ],
   "source": [
    "list2[-2]"
   ]
  },
  {
   "cell_type": "code",
   "execution_count": 47,
   "id": "d13dcf72",
   "metadata": {},
   "outputs": [
    {
     "data": {
      "text/plain": [
       "[10, 9, 8, 7, 6, 5, 4, 3, 2, 1]"
      ]
     },
     "execution_count": 47,
     "metadata": {},
     "output_type": "execute_result"
    }
   ],
   "source": [
    "list2[::-1]"
   ]
  },
  {
   "cell_type": "code",
   "execution_count": 49,
   "id": "6c3c9c01",
   "metadata": {},
   "outputs": [
    {
     "data": {
      "text/plain": [
       "[1, 2, 3, 4, 5]"
      ]
     },
     "execution_count": 49,
     "metadata": {},
     "output_type": "execute_result"
    }
   ],
   "source": [
    "list2[0:5]"
   ]
  },
  {
   "cell_type": "code",
   "execution_count": 50,
   "id": "fdd402a7",
   "metadata": {},
   "outputs": [
    {
     "data": {
      "text/plain": [
       "[5, 6, 7, 8, 9]"
      ]
     },
     "execution_count": 50,
     "metadata": {},
     "output_type": "execute_result"
    }
   ],
   "source": [
    "list2[4:9]"
   ]
  },
  {
   "cell_type": "code",
   "execution_count": 52,
   "id": "6a8392c3",
   "metadata": {},
   "outputs": [
    {
     "data": {
      "text/plain": [
       "[27, 'sachin', 245.25, True, [1, 2, 3, 4]]"
      ]
     },
     "execution_count": 52,
     "metadata": {},
     "output_type": "execute_result"
    }
   ],
   "source": [
    "list[0:]"
   ]
  },
  {
   "cell_type": "code",
   "execution_count": 53,
   "id": "9e81843b",
   "metadata": {},
   "outputs": [
    {
     "data": {
      "text/plain": [
       "[1, 2, 3, 4, 5, 6, 7, 8, 9, 10]"
      ]
     },
     "execution_count": 53,
     "metadata": {},
     "output_type": "execute_result"
    }
   ],
   "source": [
    "list2"
   ]
  },
  {
   "cell_type": "code",
   "execution_count": 54,
   "id": "f9dd28f8",
   "metadata": {},
   "outputs": [
    {
     "data": {
      "text/plain": [
       "[2, 3, 4, 5, 6, 7, 8, 9, 10]"
      ]
     },
     "execution_count": 54,
     "metadata": {},
     "output_type": "execute_result"
    }
   ],
   "source": [
    "list2[1:]"
   ]
  },
  {
   "cell_type": "code",
   "execution_count": 55,
   "id": "c5c93174",
   "metadata": {},
   "outputs": [
    {
     "data": {
      "text/plain": [
       "10"
      ]
     },
     "execution_count": 55,
     "metadata": {},
     "output_type": "execute_result"
    }
   ],
   "source": [
    "len(list2)"
   ]
  },
  {
   "cell_type": "code",
   "execution_count": 58,
   "id": "78f32bb5",
   "metadata": {},
   "outputs": [
    {
     "data": {
      "text/plain": [
       "[4, 7, 10]"
      ]
     },
     "execution_count": 58,
     "metadata": {},
     "output_type": "execute_result"
    }
   ],
   "source": [
    "list2[3:10:3]"
   ]
  },
  {
   "cell_type": "code",
   "execution_count": null,
   "id": "e37c46ce",
   "metadata": {},
   "outputs": [],
   "source": []
  }
 ],
 "metadata": {
  "kernelspec": {
   "display_name": ".venv",
   "language": "python",
   "name": "python3"
  },
  "language_info": {
   "codemirror_mode": {
    "name": "ipython",
    "version": 3
   },
   "file_extension": ".py",
   "mimetype": "text/x-python",
   "name": "python",
   "nbconvert_exporter": "python",
   "pygments_lexer": "ipython3",
   "version": "3.12.10"
  }
 },
 "nbformat": 4,
 "nbformat_minor": 5
}
