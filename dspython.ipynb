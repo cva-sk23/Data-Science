{
 "cells": [
  {
   "cell_type": "markdown",
   "id": "2dbca7a2",
   "metadata": {},
   "source": [
    "# Data science"
   ]
  },
  {
   "cell_type": "code",
   "execution_count": 217,
   "id": "c9c8a77d",
   "metadata": {},
   "outputs": [
    {
     "name": "stdout",
     "output_type": "stream",
     "text": [
      "hello\n"
     ]
    }
   ],
   "source": [
    "print('hello')"
   ]
  },
  {
   "cell_type": "markdown",
   "id": "1d26546a",
   "metadata": {},
   "source": [
    "### Variables"
   ]
  },
  {
   "cell_type": "code",
   "execution_count": 218,
   "id": "3dd1d779",
   "metadata": {},
   "outputs": [],
   "source": [
    "a=10\n",
    "b=\"chennai\"\n",
    "c=343343\n",
    "d=[3,4,3]\n"
   ]
  },
  {
   "cell_type": "code",
   "execution_count": 219,
   "id": "63c6975c",
   "metadata": {},
   "outputs": [
    {
     "name": "stdout",
     "output_type": "stream",
     "text": [
      "10\n",
      "chennai\n",
      "343343\n",
      "[3, 4, 3]\n"
     ]
    }
   ],
   "source": [
    "print(a)\n",
    "print(b)\n",
    "print(c)\n",
    "print(d)"
   ]
  },
  {
   "cell_type": "code",
   "execution_count": 220,
   "id": "333a15a8",
   "metadata": {},
   "outputs": [],
   "source": [
    "user_name=\"aravind\"\n",
    "username1=\"siva\"\n"
   ]
  },
  {
   "cell_type": "code",
   "execution_count": 221,
   "id": "78466f7d",
   "metadata": {},
   "outputs": [
    {
     "name": "stdout",
     "output_type": "stream",
     "text": [
      "70\n"
     ]
    }
   ],
   "source": [
    "a=30\n",
    "a1=40\n",
    "print(a+a1)"
   ]
  },
  {
   "cell_type": "markdown",
   "id": "ca5cb9af",
   "metadata": {},
   "source": [
    "### Data Types"
   ]
  },
  {
   "cell_type": "code",
   "execution_count": 222,
   "id": "d3d26a1d",
   "metadata": {},
   "outputs": [],
   "source": [
    "Name= \"siva\" # string \n",
    "age= 36 # integer\n",
    "weight= 80.5 # float\n",
    "result=True  #true/False boolean\n",
    "\n"
   ]
  },
  {
   "cell_type": "markdown",
   "id": "93bf06b6",
   "metadata": {},
   "source": [
    "#sample"
   ]
  },
  {
   "cell_type": "code",
   "execution_count": 223,
   "id": "4190f64c",
   "metadata": {},
   "outputs": [],
   "source": [
    "# mailid string\n",
    "# aadhar Integer\n",
    "# pan string\n",
    "# bank acc integer\n",
    "# ip add string\n"
   ]
  },
  {
   "cell_type": "markdown",
   "id": "b5664f08",
   "metadata": {},
   "source": [
    "### Data Structure"
   ]
  },
  {
   "cell_type": "code",
   "execution_count": 224,
   "id": "2374983d",
   "metadata": {},
   "outputs": [],
   "source": [
    "# list \n",
    "# tuple\n",
    "# set\n",
    "# Dict"
   ]
  },
  {
   "cell_type": "markdown",
   "id": "e08ed283",
   "metadata": {},
   "source": [
    "# list []\n"
   ]
  },
  {
   "cell_type": "code",
   "execution_count": 225,
   "id": "867b17af",
   "metadata": {},
   "outputs": [],
   "source": [
    "list= [27,\"sachin\",245.25,True,[1,2,3,4]]  #list ois mutable, list can store all data types and structures\n"
   ]
  },
  {
   "cell_type": "code",
   "execution_count": 226,
   "id": "898ed2d4",
   "metadata": {},
   "outputs": [
    {
     "data": {
      "text/plain": [
       "245.25"
      ]
     },
     "execution_count": 226,
     "metadata": {},
     "output_type": "execute_result"
    }
   ],
   "source": [
    "list[2]"
   ]
  },
  {
   "cell_type": "code",
   "execution_count": 227,
   "id": "3a1f15e7",
   "metadata": {},
   "outputs": [
    {
     "data": {
      "text/plain": [
       "3"
      ]
     },
     "execution_count": 227,
     "metadata": {},
     "output_type": "execute_result"
    }
   ],
   "source": [
    "list[4][2]"
   ]
  },
  {
   "cell_type": "code",
   "execution_count": 228,
   "id": "88f27ef3",
   "metadata": {},
   "outputs": [
    {
     "data": {
      "text/plain": [
       "'c'"
      ]
     },
     "execution_count": 228,
     "metadata": {},
     "output_type": "execute_result"
    }
   ],
   "source": [
    "list[1][2]"
   ]
  },
  {
   "cell_type": "code",
   "execution_count": 229,
   "id": "df9d9a6b",
   "metadata": {},
   "outputs": [
    {
     "data": {
      "text/plain": [
       "[1, 2, 3, 4, 5, 6, 7, 8, 9, 10]"
      ]
     },
     "execution_count": 229,
     "metadata": {},
     "output_type": "execute_result"
    }
   ],
   "source": [
    "list2=[1,2,3,4,5,6,7,8,9,10]\n",
    "list2"
   ]
  },
  {
   "cell_type": "code",
   "execution_count": 230,
   "id": "ef6981fe",
   "metadata": {},
   "outputs": [
    {
     "data": {
      "text/plain": [
       "9"
      ]
     },
     "execution_count": 230,
     "metadata": {},
     "output_type": "execute_result"
    }
   ],
   "source": [
    "list2[-2]"
   ]
  },
  {
   "cell_type": "code",
   "execution_count": 231,
   "id": "d13dcf72",
   "metadata": {},
   "outputs": [
    {
     "data": {
      "text/plain": [
       "[10, 9, 8, 7, 6, 5, 4, 3, 2, 1]"
      ]
     },
     "execution_count": 231,
     "metadata": {},
     "output_type": "execute_result"
    }
   ],
   "source": [
    "list2[::-1]"
   ]
  },
  {
   "cell_type": "code",
   "execution_count": 232,
   "id": "6c3c9c01",
   "metadata": {},
   "outputs": [
    {
     "data": {
      "text/plain": [
       "[1, 2, 3, 4, 5]"
      ]
     },
     "execution_count": 232,
     "metadata": {},
     "output_type": "execute_result"
    }
   ],
   "source": [
    "list2[0:5]"
   ]
  },
  {
   "cell_type": "code",
   "execution_count": 233,
   "id": "fdd402a7",
   "metadata": {},
   "outputs": [
    {
     "data": {
      "text/plain": [
       "[5, 6, 7, 8, 9]"
      ]
     },
     "execution_count": 233,
     "metadata": {},
     "output_type": "execute_result"
    }
   ],
   "source": [
    "list2[4:9]"
   ]
  },
  {
   "cell_type": "code",
   "execution_count": 234,
   "id": "6a8392c3",
   "metadata": {},
   "outputs": [
    {
     "data": {
      "text/plain": [
       "[27, 'sachin', 245.25, True, [1, 2, 3, 4]]"
      ]
     },
     "execution_count": 234,
     "metadata": {},
     "output_type": "execute_result"
    }
   ],
   "source": [
    "list[0:]"
   ]
  },
  {
   "cell_type": "code",
   "execution_count": 235,
   "id": "9e81843b",
   "metadata": {},
   "outputs": [
    {
     "data": {
      "text/plain": [
       "[1, 2, 3, 4, 5, 6, 7, 8, 9, 10]"
      ]
     },
     "execution_count": 235,
     "metadata": {},
     "output_type": "execute_result"
    }
   ],
   "source": [
    "list2"
   ]
  },
  {
   "cell_type": "code",
   "execution_count": 236,
   "id": "f9dd28f8",
   "metadata": {},
   "outputs": [
    {
     "data": {
      "text/plain": [
       "[2, 3, 4, 5, 6, 7, 8, 9, 10]"
      ]
     },
     "execution_count": 236,
     "metadata": {},
     "output_type": "execute_result"
    }
   ],
   "source": [
    "list2[1:]"
   ]
  },
  {
   "cell_type": "code",
   "execution_count": 237,
   "id": "c5c93174",
   "metadata": {},
   "outputs": [
    {
     "data": {
      "text/plain": [
       "10"
      ]
     },
     "execution_count": 237,
     "metadata": {},
     "output_type": "execute_result"
    }
   ],
   "source": [
    "len(list2)"
   ]
  },
  {
   "cell_type": "code",
   "execution_count": 238,
   "id": "78f32bb5",
   "metadata": {},
   "outputs": [
    {
     "data": {
      "text/plain": [
       "[4, 7, 10]"
      ]
     },
     "execution_count": 238,
     "metadata": {},
     "output_type": "execute_result"
    }
   ],
   "source": [
    "list2[3:10:3]"
   ]
  },
  {
   "cell_type": "code",
   "execution_count": 239,
   "id": "e37c46ce",
   "metadata": {},
   "outputs": [],
   "source": [
    "fruits = [\n",
    "    \"Apple\",\n",
    "    \"Banana\",\n",
    "    \"Orange\",\n",
    "    \"Mango\",\n",
    "    \"Grapes\",\n",
    "    \"Pineapple\",\n",
    "    \"Papaya\",\n",
    "    \"Watermelon\",\n",
    "    \"Pomegranate\",\n",
    "    \"Strawberry\",\n",
    "    \"Blueberry\",\n",
    "    \"Raspberry\",\n",
    "    \"Blackberry\",\n",
    "    \"Lemon\",\n",
    "    \"Lime\",\n",
    "    \"Peach\",\n",
    "    \"Pear\",\n",
    "    \"Cherry\",\n",
    "    \"Kiwi\"\n",
    "]"
   ]
  },
  {
   "cell_type": "code",
   "execution_count": 240,
   "id": "3abb32d9",
   "metadata": {},
   "outputs": [
    {
     "data": {
      "text/plain": [
       "19"
      ]
     },
     "execution_count": 240,
     "metadata": {},
     "output_type": "execute_result"
    }
   ],
   "source": [
    "len(fruits)"
   ]
  },
  {
   "cell_type": "code",
   "execution_count": 241,
   "id": "fe89fc64",
   "metadata": {},
   "outputs": [
    {
     "data": {
      "text/plain": [
       "['Kiwi',\n",
       " 'Cherry',\n",
       " 'Pear',\n",
       " 'Peach',\n",
       " 'Lime',\n",
       " 'Lemon',\n",
       " 'Blackberry',\n",
       " 'Raspberry',\n",
       " 'Blueberry',\n",
       " 'Strawberry',\n",
       " 'Pomegranate',\n",
       " 'Watermelon',\n",
       " 'Papaya',\n",
       " 'Pineapple',\n",
       " 'Grapes',\n",
       " 'Mango',\n",
       " 'Orange',\n",
       " 'Banana',\n",
       " 'Apple']"
      ]
     },
     "execution_count": 241,
     "metadata": {},
     "output_type": "execute_result"
    }
   ],
   "source": [
    "fruits[::-1]"
   ]
  },
  {
   "cell_type": "code",
   "execution_count": 242,
   "id": "2e3b79e7",
   "metadata": {},
   "outputs": [],
   "source": [
    "fruits.append(\"gauva\")  #add the element\n"
   ]
  },
  {
   "cell_type": "code",
   "execution_count": 243,
   "id": "a57274fc",
   "metadata": {},
   "outputs": [
    {
     "data": {
      "text/plain": [
       "['Apple',\n",
       " 'Banana',\n",
       " 'Orange',\n",
       " 'Mango',\n",
       " 'Grapes',\n",
       " 'Pineapple',\n",
       " 'Papaya',\n",
       " 'Watermelon',\n",
       " 'Pomegranate',\n",
       " 'Strawberry',\n",
       " 'Blueberry',\n",
       " 'Raspberry',\n",
       " 'Blackberry',\n",
       " 'Lemon',\n",
       " 'Lime',\n",
       " 'Peach',\n",
       " 'Pear',\n",
       " 'Cherry',\n",
       " 'Kiwi',\n",
       " 'gauva']"
      ]
     },
     "execution_count": 243,
     "metadata": {},
     "output_type": "execute_result"
    }
   ],
   "source": [
    "fruits"
   ]
  },
  {
   "cell_type": "code",
   "execution_count": 244,
   "id": "e5b199f9",
   "metadata": {},
   "outputs": [
    {
     "data": {
      "text/plain": [
       "'gauva'"
      ]
     },
     "execution_count": 244,
     "metadata": {},
     "output_type": "execute_result"
    }
   ],
   "source": [
    "fruits.pop()   #  pop will add element in last list\n"
   ]
  },
  {
   "cell_type": "code",
   "execution_count": 245,
   "id": "a5ef96ad",
   "metadata": {},
   "outputs": [
    {
     "data": {
      "text/plain": [
       "['Apple',\n",
       " 'Banana',\n",
       " 'Orange',\n",
       " 'Mango',\n",
       " 'Grapes',\n",
       " 'Pineapple',\n",
       " 'Papaya',\n",
       " 'Watermelon',\n",
       " 'Pomegranate',\n",
       " 'Strawberry',\n",
       " 'Blueberry',\n",
       " 'Raspberry',\n",
       " 'Blackberry',\n",
       " 'Lemon',\n",
       " 'Lime',\n",
       " 'Peach',\n",
       " 'Pear',\n",
       " 'Cherry',\n",
       " 'Kiwi']"
      ]
     },
     "execution_count": 245,
     "metadata": {},
     "output_type": "execute_result"
    }
   ],
   "source": [
    "fruits"
   ]
  },
  {
   "cell_type": "code",
   "execution_count": 246,
   "id": "712bd6d5",
   "metadata": {},
   "outputs": [
    {
     "data": {
      "text/plain": [
       "['__add__',\n",
       " '__class__',\n",
       " '__class_getitem__',\n",
       " '__contains__',\n",
       " '__delattr__',\n",
       " '__delitem__',\n",
       " '__dir__',\n",
       " '__doc__',\n",
       " '__eq__',\n",
       " '__format__',\n",
       " '__ge__',\n",
       " '__getattribute__',\n",
       " '__getitem__',\n",
       " '__getstate__',\n",
       " '__gt__',\n",
       " '__hash__',\n",
       " '__iadd__',\n",
       " '__imul__',\n",
       " '__init__',\n",
       " '__init_subclass__',\n",
       " '__iter__',\n",
       " '__le__',\n",
       " '__len__',\n",
       " '__lt__',\n",
       " '__mul__',\n",
       " '__ne__',\n",
       " '__new__',\n",
       " '__reduce__',\n",
       " '__reduce_ex__',\n",
       " '__repr__',\n",
       " '__reversed__',\n",
       " '__rmul__',\n",
       " '__setattr__',\n",
       " '__setitem__',\n",
       " '__sizeof__',\n",
       " '__str__',\n",
       " '__subclasshook__',\n",
       " 'append',\n",
       " 'clear',\n",
       " 'copy',\n",
       " 'count',\n",
       " 'extend',\n",
       " 'index',\n",
       " 'insert',\n",
       " 'pop',\n",
       " 'remove',\n",
       " 'reverse',\n",
       " 'sort']"
      ]
     },
     "execution_count": 246,
     "metadata": {},
     "output_type": "execute_result"
    }
   ],
   "source": [
    "dir(list)"
   ]
  },
  {
   "cell_type": "code",
   "execution_count": 247,
   "id": "fb0f2cb0",
   "metadata": {},
   "outputs": [],
   "source": [
    "fruits.insert(1,'madulai')  #insert in any position with index"
   ]
  },
  {
   "cell_type": "code",
   "execution_count": 248,
   "id": "f21fff7f",
   "metadata": {},
   "outputs": [
    {
     "data": {
      "text/plain": [
       "['Apple',\n",
       " 'madulai',\n",
       " 'Banana',\n",
       " 'Orange',\n",
       " 'Mango',\n",
       " 'Grapes',\n",
       " 'Pineapple',\n",
       " 'Papaya',\n",
       " 'Watermelon',\n",
       " 'Pomegranate',\n",
       " 'Strawberry',\n",
       " 'Blueberry',\n",
       " 'Raspberry',\n",
       " 'Blackberry',\n",
       " 'Lemon',\n",
       " 'Lime',\n",
       " 'Peach',\n",
       " 'Pear',\n",
       " 'Cherry',\n",
       " 'Kiwi']"
      ]
     },
     "execution_count": 248,
     "metadata": {},
     "output_type": "execute_result"
    }
   ],
   "source": [
    "fruits"
   ]
  },
  {
   "cell_type": "code",
   "execution_count": 249,
   "id": "4853e1d5",
   "metadata": {},
   "outputs": [],
   "source": [
    "fruits.remove('madulai')  #remove element "
   ]
  },
  {
   "cell_type": "code",
   "execution_count": 250,
   "id": "b19f76e7",
   "metadata": {},
   "outputs": [
    {
     "data": {
      "text/plain": [
       "['Apple',\n",
       " 'Banana',\n",
       " 'Orange',\n",
       " 'Mango',\n",
       " 'Grapes',\n",
       " 'Pineapple',\n",
       " 'Papaya',\n",
       " 'Watermelon',\n",
       " 'Pomegranate',\n",
       " 'Strawberry',\n",
       " 'Blueberry',\n",
       " 'Raspberry',\n",
       " 'Blackberry',\n",
       " 'Lemon',\n",
       " 'Lime',\n",
       " 'Peach',\n",
       " 'Pear',\n",
       " 'Cherry',\n",
       " 'Kiwi']"
      ]
     },
     "execution_count": 250,
     "metadata": {},
     "output_type": "execute_result"
    }
   ],
   "source": [
    "fruits"
   ]
  },
  {
   "cell_type": "code",
   "execution_count": 251,
   "id": "dfcd5045",
   "metadata": {},
   "outputs": [],
   "source": [
    "fruits = [\n",
    "    \"Apple\",\n",
    "    \"Banana\",\n",
    "    \"Orange\",\n",
    "    \"Mango\",\n",
    "    \"Grapes\",\n",
    "    \"Pineapple\",\n",
    "    \"Papaya\",\n",
    "    \"Watermelon\",\n",
    "    \"Pomegranate\",\n",
    "    \"Strawberry\",\n",
    "    \"Blueberry\",\n",
    "    \"Raspberry\",\n",
    "    \"Blackberry\",\n",
    "    \"Lemon\",\n",
    "    \"Lime\",\n",
    "    \"Peach\",\n",
    "    \"Pear\",\n",
    "    \"Cherry\",\n",
    "    \"Kiwi\"\n",
    "]"
   ]
  },
  {
   "cell_type": "code",
   "execution_count": 252,
   "id": "fd6a58c5",
   "metadata": {},
   "outputs": [],
   "source": [
    "fruits.clear()"
   ]
  },
  {
   "cell_type": "code",
   "execution_count": 253,
   "id": "015ac019",
   "metadata": {},
   "outputs": [
    {
     "data": {
      "text/plain": [
       "[]"
      ]
     },
     "execution_count": 253,
     "metadata": {},
     "output_type": "execute_result"
    }
   ],
   "source": [
    "fruits"
   ]
  },
  {
   "cell_type": "code",
   "execution_count": 254,
   "id": "8fbc4e6c",
   "metadata": {},
   "outputs": [
    {
     "data": {
      "text/plain": [
       "[]"
      ]
     },
     "execution_count": 254,
     "metadata": {},
     "output_type": "execute_result"
    }
   ],
   "source": [
    "fruits"
   ]
  },
  {
   "cell_type": "code",
   "execution_count": 255,
   "id": "866a415c",
   "metadata": {},
   "outputs": [],
   "source": [
    "fruits.insert(5,'Madulai')"
   ]
  },
  {
   "cell_type": "code",
   "execution_count": 256,
   "id": "42041ef4",
   "metadata": {},
   "outputs": [
    {
     "data": {
      "text/plain": [
       "['Madulai']"
      ]
     },
     "execution_count": 256,
     "metadata": {},
     "output_type": "execute_result"
    }
   ],
   "source": [
    "fruits"
   ]
  },
  {
   "cell_type": "code",
   "execution_count": 257,
   "id": "b2514204",
   "metadata": {},
   "outputs": [
    {
     "data": {
      "text/plain": [
       "1"
      ]
     },
     "execution_count": 257,
     "metadata": {},
     "output_type": "execute_result"
    }
   ],
   "source": [
    "fruits.count('Madulai') # count the elements"
   ]
  },
  {
   "cell_type": "code",
   "execution_count": 258,
   "id": "ab6441ed",
   "metadata": {},
   "outputs": [
    {
     "ename": "ValueError",
     "evalue": "list.remove(x): x not in list",
     "output_type": "error",
     "traceback": [
      "\u001b[31m---------------------------------------------------------------------------\u001b[39m",
      "\u001b[31mValueError\u001b[39m                                Traceback (most recent call last)",
      "\u001b[36mCell\u001b[39m\u001b[36m \u001b[39m\u001b[32mIn[258]\u001b[39m\u001b[32m, line 1\u001b[39m\n\u001b[32m----> \u001b[39m\u001b[32m1\u001b[39m \u001b[43mfruits\u001b[49m\u001b[43m.\u001b[49m\u001b[43mremove\u001b[49m\u001b[43m(\u001b[49m\u001b[33;43m'\u001b[39;49m\u001b[33;43mmadulai\u001b[39;49m\u001b[33;43m'\u001b[39;49m\u001b[43m)\u001b[49m\n",
      "\u001b[31mValueError\u001b[39m: list.remove(x): x not in list"
     ]
    }
   ],
   "source": [
    "fruits.remove('madulai')"
   ]
  },
  {
   "cell_type": "code",
   "execution_count": null,
   "id": "416196ec",
   "metadata": {},
   "outputs": [
    {
     "data": {
      "text/plain": [
       "10"
      ]
     },
     "execution_count": 154,
     "metadata": {},
     "output_type": "execute_result"
    }
   ],
   "source": [
    "fruits.index('Lime') # find the index of the element and it will show the first occurance"
   ]
  },
  {
   "cell_type": "code",
   "execution_count": null,
   "id": "af9db9a0",
   "metadata": {},
   "outputs": [
    {
     "data": {
      "text/plain": [
       "['Watermelon',\n",
       " 'Strawberry',\n",
       " 'Raspberry',\n",
       " 'Pomegranate',\n",
       " 'Pineapple',\n",
       " 'Pear',\n",
       " 'Peach',\n",
       " 'Papaya',\n",
       " 'Orange',\n",
       " 'Mango',\n",
       " 'Lime',\n",
       " 'Lemon',\n",
       " 'Kiwi',\n",
       " 'Grapes',\n",
       " 'Madulai',\n",
       " 'Madulai',\n",
       " 'Cherry',\n",
       " 'Blueberry',\n",
       " 'Blackberry',\n",
       " 'Banana',\n",
       " 'Apple']"
      ]
     },
     "execution_count": 155,
     "metadata": {},
     "output_type": "execute_result"
    }
   ],
   "source": [
    "fruits.reverse()\n",
    "fruits"
   ]
  },
  {
   "cell_type": "code",
   "execution_count": null,
   "id": "db165c9f",
   "metadata": {},
   "outputs": [
    {
     "data": {
      "text/plain": [
       "['Apple',\n",
       " 'Banana',\n",
       " 'Blackberry',\n",
       " 'Blueberry',\n",
       " 'Cherry',\n",
       " 'Grapes',\n",
       " 'Kiwi',\n",
       " 'Lemon',\n",
       " 'Lime',\n",
       " 'Madulai',\n",
       " 'Madulai',\n",
       " 'Mango',\n",
       " 'Orange',\n",
       " 'Papaya',\n",
       " 'Peach',\n",
       " 'Pear',\n",
       " 'Pineapple',\n",
       " 'Pomegranate',\n",
       " 'Raspberry',\n",
       " 'Strawberry',\n",
       " 'Watermelon']"
      ]
     },
     "execution_count": 164,
     "metadata": {},
     "output_type": "execute_result"
    }
   ],
   "source": [
    "fruits.sort()\n",
    "fruits"
   ]
  },
  {
   "cell_type": "code",
   "execution_count": null,
   "id": "c9a88c9b",
   "metadata": {},
   "outputs": [
    {
     "data": {
      "text/plain": [
       "['Watermelon',\n",
       " 'Strawberry',\n",
       " 'Raspberry',\n",
       " 'Pomegranate',\n",
       " 'Pineapple',\n",
       " 'Pear',\n",
       " 'Peach',\n",
       " 'Papaya',\n",
       " 'Orange',\n",
       " 'Mango',\n",
       " 'Madulai',\n",
       " 'Madulai',\n",
       " 'Lime',\n",
       " 'Lemon',\n",
       " 'Kiwi',\n",
       " 'Grapes',\n",
       " 'Cherry',\n",
       " 'Blueberry',\n",
       " 'Blackberry',\n",
       " 'Banana',\n",
       " 'Apple']"
      ]
     },
     "execution_count": 160,
     "metadata": {},
     "output_type": "execute_result"
    }
   ],
   "source": [
    "fruits[::-1]"
   ]
  },
  {
   "cell_type": "code",
   "execution_count": null,
   "id": "ef088344",
   "metadata": {},
   "outputs": [
    {
     "data": {
      "text/plain": [
       "['Watermelon',\n",
       " 'Strawberry',\n",
       " 'Raspberry',\n",
       " 'Pomegranate',\n",
       " 'Pineapple',\n",
       " 'Pear',\n",
       " 'Peach',\n",
       " 'Papaya',\n",
       " 'Orange',\n",
       " 'Mango',\n",
       " 'Madulai',\n",
       " 'Madulai',\n",
       " 'Lime',\n",
       " 'Lemon',\n",
       " 'Kiwi',\n",
       " 'Grapes',\n",
       " 'Cherry',\n",
       " 'Blueberry',\n",
       " 'Blackberry',\n",
       " 'Banana',\n",
       " 'Apple']"
      ]
     },
     "execution_count": 165,
     "metadata": {},
     "output_type": "execute_result"
    }
   ],
   "source": [
    "fruits.sort(reverse=True)\n",
    "fruits"
   ]
  },
  {
   "cell_type": "code",
   "execution_count": null,
   "id": "22f261c2",
   "metadata": {},
   "outputs": [
    {
     "data": {
      "text/plain": [
       "['Watermelon',\n",
       " 'Strawberry',\n",
       " 'Raspberry',\n",
       " 'Pomegranate',\n",
       " 'Pineapple',\n",
       " 'Pear',\n",
       " 'Peach',\n",
       " 'Papaya',\n",
       " 'Orange',\n",
       " 'Mango',\n",
       " 'Madulai',\n",
       " 'Madulai',\n",
       " 'Lime',\n",
       " 'Lemon',\n",
       " 'Kiwi',\n",
       " 'Grapes',\n",
       " 'Cherry',\n",
       " 'Blueberry',\n",
       " 'Blackberry',\n",
       " 'Banana',\n",
       " 'Apple']"
      ]
     },
     "execution_count": 168,
     "metadata": {},
     "output_type": "execute_result"
    }
   ],
   "source": [
    "fruits.sort(reverse=True)\n",
    "fruits"
   ]
  },
  {
   "cell_type": "code",
   "execution_count": null,
   "id": "9dca8a07",
   "metadata": {},
   "outputs": [
    {
     "data": {
      "text/plain": [
       "['Apple',\n",
       " 'Banana',\n",
       " 'Blackberry',\n",
       " 'Blueberry',\n",
       " 'Cherry',\n",
       " 'Grapes',\n",
       " 'Kiwi',\n",
       " 'Lemon',\n",
       " 'Lime',\n",
       " 'Madulai',\n",
       " 'Madulai',\n",
       " 'Mango',\n",
       " 'Orange',\n",
       " 'Papaya',\n",
       " 'Peach',\n",
       " 'Pear',\n",
       " 'Pineapple',\n",
       " 'Pomegranate',\n",
       " 'Raspberry',\n",
       " 'Strawberry',\n",
       " 'Watermelon']"
      ]
     },
     "execution_count": 170,
     "metadata": {},
     "output_type": "execute_result"
    }
   ],
   "source": [
    "fruits.sort()  #sort the elements\n",
    "fruits "
   ]
  },
  {
   "cell_type": "code",
   "execution_count": null,
   "id": "46de322e",
   "metadata": {},
   "outputs": [
    {
     "data": {
      "text/plain": [
       "['Watermelon',\n",
       " 'Strawberry',\n",
       " 'Raspberry',\n",
       " 'Pomegranate',\n",
       " 'Pineapple',\n",
       " 'Pear',\n",
       " 'Peach',\n",
       " 'Papaya',\n",
       " 'Orange',\n",
       " 'Mango',\n",
       " 'Madulai',\n",
       " 'Madulai',\n",
       " 'Lime',\n",
       " 'Lemon',\n",
       " 'Kiwi',\n",
       " 'Grapes',\n",
       " 'Cherry',\n",
       " 'Blueberry',\n",
       " 'Blackberry',\n",
       " 'Banana',\n",
       " 'Apple']"
      ]
     },
     "execution_count": 172,
     "metadata": {},
     "output_type": "execute_result"
    }
   ],
   "source": [
    "fruits.sort(reverse=True)  #revere sort\n",
    "fruits"
   ]
  },
  {
   "cell_type": "code",
   "execution_count": null,
   "id": "eca7501a",
   "metadata": {},
   "outputs": [],
   "source": [
    "fruits1=fruits.copy()"
   ]
  },
  {
   "cell_type": "code",
   "execution_count": null,
   "id": "bf38eff8",
   "metadata": {},
   "outputs": [],
   "source": [
    "vegetables = [\"Carrot\", \"Beetroot\", \"Potato\", \"Radish\", \"Turnip\"]"
   ]
  },
  {
   "cell_type": "code",
   "execution_count": null,
   "id": "5d1ac009",
   "metadata": {},
   "outputs": [],
   "source": [
    "fruits1.extend(vegetables)"
   ]
  },
  {
   "cell_type": "code",
   "execution_count": null,
   "id": "c6ec9751",
   "metadata": {},
   "outputs": [
    {
     "data": {
      "text/plain": [
       "['Watermelon',\n",
       " 'Strawberry',\n",
       " 'Raspberry',\n",
       " 'Pomegranate',\n",
       " 'Pineapple',\n",
       " 'Pear',\n",
       " 'Peach',\n",
       " 'Papaya',\n",
       " 'Orange',\n",
       " 'Mango',\n",
       " 'Madulai',\n",
       " 'Madulai',\n",
       " 'Lime',\n",
       " 'Lemon',\n",
       " 'Kiwi',\n",
       " 'Grapes',\n",
       " 'Cherry',\n",
       " 'Blueberry',\n",
       " 'Blackberry',\n",
       " 'Banana',\n",
       " 'Apple',\n",
       " 'Carrot',\n",
       " 'Beetroot',\n",
       " 'Potato',\n",
       " 'Radish',\n",
       " 'Turnip']"
      ]
     },
     "execution_count": 176,
     "metadata": {},
     "output_type": "execute_result"
    }
   ],
   "source": [
    "fruits1"
   ]
  },
  {
   "cell_type": "markdown",
   "id": "ad0b8c9c",
   "metadata": {},
   "source": [
    "## Tuple"
   ]
  },
  {
   "cell_type": "markdown",
   "id": "8807a931",
   "metadata": {},
   "source": [
    "#### tuple is always  use curve bracket \n",
    "store any data types and data structure and cant change or edits\n"
   ]
  },
  {
   "cell_type": "code",
   "execution_count": null,
   "id": "3ab8cf06",
   "metadata": {},
   "outputs": [],
   "source": [
    "empdata=(\"manoj\",25,1150)"
   ]
  },
  {
   "cell_type": "code",
   "execution_count": null,
   "id": "d831cb25",
   "metadata": {},
   "outputs": [
    {
     "data": {
      "text/plain": [
       "25"
      ]
     },
     "execution_count": 180,
     "metadata": {},
     "output_type": "execute_result"
    }
   ],
   "source": [
    "empdata[1]"
   ]
  },
  {
   "cell_type": "code",
   "execution_count": null,
   "id": "be85d05d",
   "metadata": {},
   "outputs": [
    {
     "data": {
      "text/plain": [
       "1"
      ]
     },
     "execution_count": 185,
     "metadata": {},
     "output_type": "execute_result"
    }
   ],
   "source": [
    "empdata.count(25)"
   ]
  },
  {
   "cell_type": "code",
   "execution_count": null,
   "id": "1b24e8cf",
   "metadata": {},
   "outputs": [
    {
     "data": {
      "text/plain": [
       "0"
      ]
     },
     "execution_count": 186,
     "metadata": {},
     "output_type": "execute_result"
    }
   ],
   "source": [
    "empdata.index('manoj')"
   ]
  },
  {
   "cell_type": "code",
   "execution_count": null,
   "id": "02318963",
   "metadata": {},
   "outputs": [
    {
     "data": {
      "text/plain": [
       "['__add__',\n",
       " '__class__',\n",
       " '__class_getitem__',\n",
       " '__contains__',\n",
       " '__delattr__',\n",
       " '__dir__',\n",
       " '__doc__',\n",
       " '__eq__',\n",
       " '__format__',\n",
       " '__ge__',\n",
       " '__getattribute__',\n",
       " '__getitem__',\n",
       " '__getnewargs__',\n",
       " '__getstate__',\n",
       " '__gt__',\n",
       " '__hash__',\n",
       " '__init__',\n",
       " '__init_subclass__',\n",
       " '__iter__',\n",
       " '__le__',\n",
       " '__len__',\n",
       " '__lt__',\n",
       " '__mul__',\n",
       " '__ne__',\n",
       " '__new__',\n",
       " '__reduce__',\n",
       " '__reduce_ex__',\n",
       " '__repr__',\n",
       " '__rmul__',\n",
       " '__setattr__',\n",
       " '__sizeof__',\n",
       " '__str__',\n",
       " '__subclasshook__',\n",
       " 'count',\n",
       " 'index']"
      ]
     },
     "execution_count": 182,
     "metadata": {},
     "output_type": "execute_result"
    }
   ],
   "source": [
    "dir(tuple)"
   ]
  },
  {
   "cell_type": "markdown",
   "id": "031f5fc7",
   "metadata": {},
   "source": [
    "### Set"
   ]
  },
  {
   "cell_type": "markdown",
   "id": "dab2ae2e",
   "metadata": {},
   "source": [
    "### set wont allow dublicates "
   ]
  },
  {
   "cell_type": "code",
   "execution_count": null,
   "id": "123b9b2c",
   "metadata": {},
   "outputs": [
    {
     "data": {
      "text/plain": [
       "{'Apple',\n",
       " 'Banana',\n",
       " 'Blackberry',\n",
       " 'Blueberry',\n",
       " 'Cherry',\n",
       " 'Grapes',\n",
       " 'Kiwi',\n",
       " 'Lemon',\n",
       " 'Lime',\n",
       " 'Madulai',\n",
       " 'Mango',\n",
       " 'Orange',\n",
       " 'Papaya',\n",
       " 'Peach',\n",
       " 'Pear',\n",
       " 'Pineapple',\n",
       " 'Pomegranate',\n",
       " 'Raspberry',\n",
       " 'Strawberry',\n",
       " 'Watermelon'}"
      ]
     },
     "execution_count": 192,
     "metadata": {},
     "output_type": "execute_result"
    }
   ],
   "source": [
    "set1"
   ]
  },
  {
   "cell_type": "code",
   "execution_count": null,
   "id": "ecdf06e9",
   "metadata": {},
   "outputs": [
    {
     "data": {
      "text/plain": [
       "['__and__',\n",
       " '__class__',\n",
       " '__class_getitem__',\n",
       " '__contains__',\n",
       " '__delattr__',\n",
       " '__dir__',\n",
       " '__doc__',\n",
       " '__eq__',\n",
       " '__format__',\n",
       " '__ge__',\n",
       " '__getattribute__',\n",
       " '__getstate__',\n",
       " '__gt__',\n",
       " '__hash__',\n",
       " '__iand__',\n",
       " '__init__',\n",
       " '__init_subclass__',\n",
       " '__ior__',\n",
       " '__isub__',\n",
       " '__iter__',\n",
       " '__ixor__',\n",
       " '__le__',\n",
       " '__len__',\n",
       " '__lt__',\n",
       " '__ne__',\n",
       " '__new__',\n",
       " '__or__',\n",
       " '__rand__',\n",
       " '__reduce__',\n",
       " '__reduce_ex__',\n",
       " '__repr__',\n",
       " '__ror__',\n",
       " '__rsub__',\n",
       " '__rxor__',\n",
       " '__setattr__',\n",
       " '__sizeof__',\n",
       " '__str__',\n",
       " '__sub__',\n",
       " '__subclasshook__',\n",
       " '__xor__',\n",
       " 'add',\n",
       " 'clear',\n",
       " 'copy',\n",
       " 'difference',\n",
       " 'difference_update',\n",
       " 'discard',\n",
       " 'intersection',\n",
       " 'intersection_update',\n",
       " 'isdisjoint',\n",
       " 'issubset',\n",
       " 'issuperset',\n",
       " 'pop',\n",
       " 'remove',\n",
       " 'symmetric_difference',\n",
       " 'symmetric_difference_update',\n",
       " 'union',\n",
       " 'update']"
      ]
     },
     "execution_count": 189,
     "metadata": {},
     "output_type": "execute_result"
    }
   ],
   "source": [
    "dir(set)"
   ]
  },
  {
   "cell_type": "code",
   "execution_count": null,
   "id": "51dfd5bb",
   "metadata": {},
   "outputs": [
    {
     "data": {
      "text/plain": [
       "{'Apple',\n",
       " 'Banana',\n",
       " 'Blackberry',\n",
       " 'Blueberry',\n",
       " 'Cherry',\n",
       " 'Grapes',\n",
       " 'Kiwi',\n",
       " 'Lemon',\n",
       " 'Lime',\n",
       " 'Madulai',\n",
       " 'Mango',\n",
       " 'Orange',\n",
       " 'Papaya',\n",
       " 'Peach',\n",
       " 'Pear',\n",
       " 'Pineapple',\n",
       " 'Pomegranate',\n",
       " 'Raspberry',\n",
       " 'Strawberry',\n",
       " 'Watermelon'}"
      ]
     },
     "execution_count": 207,
     "metadata": {},
     "output_type": "execute_result"
    }
   ],
   "source": [
    "set(fruits)"
   ]
  },
  {
   "cell_type": "code",
   "execution_count": null,
   "id": "6c944709",
   "metadata": {},
   "outputs": [
    {
     "data": {
      "text/plain": [
       "{'Apple',\n",
       " 'Banana',\n",
       " 'Beetroot',\n",
       " 'Blackberry',\n",
       " 'Blueberry',\n",
       " 'Carrot',\n",
       " 'Cherry',\n",
       " 'Grapes',\n",
       " 'Kiwi',\n",
       " 'Lemon',\n",
       " 'Lime',\n",
       " 'Madulai',\n",
       " 'Mango',\n",
       " 'Orange',\n",
       " 'Papaya',\n",
       " 'Peach',\n",
       " 'Pear',\n",
       " 'Pineapple',\n",
       " 'Pomegranate',\n",
       " 'Potato',\n",
       " 'Radish',\n",
       " 'Raspberry',\n",
       " 'Strawberry',\n",
       " 'Turnip',\n",
       " 'Watermelon'}"
      ]
     },
     "execution_count": 208,
     "metadata": {},
     "output_type": "execute_result"
    }
   ],
   "source": [
    "set(fruits1)\n"
   ]
  },
  {
   "cell_type": "code",
   "execution_count": null,
   "id": "d60b08e3",
   "metadata": {},
   "outputs": [
    {
     "data": {
      "text/plain": [
       "['Strawberry', 'Raspberry', 'Pomegranate', 'Pineapple', 'Pear']"
      ]
     },
     "execution_count": 209,
     "metadata": {},
     "output_type": "execute_result"
    }
   ],
   "source": [
    "fruits1[1:6]"
   ]
  },
  {
   "cell_type": "code",
   "execution_count": null,
   "id": "950a1cfd",
   "metadata": {},
   "outputs": [],
   "source": [
    "set1= {'Strawberry', 'Raspberry', 'Pomegranate', 'Pineapple','Strawberry', 'Raspberry', 'Pomegranate', 'Pineapple','Strawberry', 'Raspberry', 'Pomegranate', 'Pineapple','Strawberry', 'Raspberry', 'Pomegranate', 'Pineapple',}"
   ]
  },
  {
   "cell_type": "code",
   "execution_count": null,
   "id": "9b8d32e4",
   "metadata": {},
   "outputs": [
    {
     "data": {
      "text/plain": [
       "{'Pineapple', 'Pomegranate', 'Raspberry', 'Strawberry'}"
      ]
     },
     "execution_count": 211,
     "metadata": {},
     "output_type": "execute_result"
    }
   ],
   "source": [
    "set(set1)"
   ]
  },
  {
   "cell_type": "code",
   "execution_count": null,
   "id": "88760baf",
   "metadata": {},
   "outputs": [],
   "source": [
    "vegetables = {\"Carrot\", \"Beetroot\", \"Potato\", \"Radish\", \"Turnip\"}\n",
    "fruits1={'Strawberry', 'Raspberry', 'Pomegranate', 'Pineapple', 'Pear'}"
   ]
  },
  {
   "cell_type": "code",
   "execution_count": null,
   "id": "ce89c91d",
   "metadata": {},
   "outputs": [
    {
     "data": {
      "text/plain": [
       "False"
      ]
     },
     "execution_count": 216,
     "metadata": {},
     "output_type": "execute_result"
    }
   ],
   "source": [
    "fruits1.issubset(vegetables)"
   ]
  },
  {
   "cell_type": "code",
   "execution_count": 259,
   "id": "76076b9d",
   "metadata": {},
   "outputs": [
    {
     "data": {
      "text/plain": [
       "True"
      ]
     },
     "execution_count": 259,
     "metadata": {},
     "output_type": "execute_result"
    }
   ],
   "source": [
    "vegetables = {\"Carrot\", \"Beetroot\", \"Potato\", \"Radish\", \"Turnip\"}\n",
    "fruits1={'Strawberry', 'Raspberry', 'Pomegranate', 'Pineapple', 'Pear'}\n",
    "fruits1.isdisjoint(vegetables)"
   ]
  },
  {
   "cell_type": "markdown",
   "id": "398d9723",
   "metadata": {},
   "source": [
    "\n",
    "## Dictionary"
   ]
  },
  {
   "cell_type": "markdown",
   "id": "15dbbb1b",
   "metadata": {},
   "source": [
    "{key : value} key is unique and value can be duplicate\n"
   ]
  },
  {
   "cell_type": "code",
   "execution_count": 260,
   "id": "3f9abdaf",
   "metadata": {},
   "outputs": [],
   "source": [
    "ind={\"batman\":'kholi',\"bowler\":'bomrah','allrounder':\"jedeja\",\"keeper\":\"dhoni\"}"
   ]
  },
  {
   "cell_type": "code",
   "execution_count": 262,
   "id": "f994d812",
   "metadata": {},
   "outputs": [
    {
     "data": {
      "text/plain": [
       "{'batman': 'kholi',\n",
       " 'bowler': 'bomrah',\n",
       " 'allrounder': 'jedeja',\n",
       " 'keeper': 'dhoni'}"
      ]
     },
     "execution_count": 262,
     "metadata": {},
     "output_type": "execute_result"
    }
   ],
   "source": [
    "ind "
   ]
  },
  {
   "cell_type": "code",
   "execution_count": 263,
   "id": "d58e5939",
   "metadata": {},
   "outputs": [
    {
     "data": {
      "text/plain": [
       "'dhoni'"
      ]
     },
     "execution_count": 263,
     "metadata": {},
     "output_type": "execute_result"
    }
   ],
   "source": [
    "ind[\"keeper\"]"
   ]
  },
  {
   "cell_type": "code",
   "execution_count": 274,
   "id": "ea131118",
   "metadata": {},
   "outputs": [
    {
     "data": {
      "text/plain": [
       "{'Name': ['alison', 'virjil', 'dias', 'salah'],\n",
       " 'squad num': [1, 4, 7, 9],\n",
       " 'position': ['keeper', 'defender', 'forwad', 'winger'],\n",
       " 'Nationality': ('brazil', 'Dutch', 'columbia', 'egypt')}"
      ]
     },
     "execution_count": 274,
     "metadata": {},
     "output_type": "execute_result"
    }
   ],
   "source": [
    "LFC={'Name': [\"alison\",'virjil','dias','salah'],\n",
    "     'squad num':[1,4,7,9],\n",
    "     'position':['keeper','defender','forwad','winger'],\n",
    "     'Nationality':(\"brazil\",'Dutch','columbia','egypt')}\n",
    "\n",
    "LFC"
   ]
  },
  {
   "cell_type": "code",
   "execution_count": 5,
   "id": "c57649c2",
   "metadata": {},
   "outputs": [],
   "source": [
    "LFC = {\n",
    "    'Name': [\"Alisson\", \"Virgil van Dijk\", \"Luis Díaz\", \"Mohamed Salah\",\"Joe Gomez\", \"Ibrahima Konaté\", \"Andy Robertson\",\"Dominik Szoboszlai\",\n",
    "    \"Alexis Mac Allister\", \"Curtis Jones\", \"Darwin Núñez\", \"Diogo Jota\",\"Wataru Endo\", \"Cody Gakpo\", \"Harvey Elliott\" ],\n",
    "    'squad_num': [1, 4, 7, 11,2, 5, 26, 8,10, 17, 9, 20, 3, 18, 19 ],\n",
    "    'position': [ \"Goalkeeper\", \"Defender\", \"Forward\", \"Winger\",\"Defender\", \"Defender\", \"Defender\", \"Midfielder\",\n",
    "    \"Midfielder\", \"Midfielder\", \"Forward\", \"Forward\",\"Midfielder\", \"Forward\", \"Midfielder\" ],\n",
    "    'Nationality': [\"Brazil\", \"Netherlands\", \"Colombia\", \"Egypt\",\"England\", \"France\", \"Scotland\", \"Hungary\",\n",
    "    \"Argentina\", \"England\", \"Uruguay\", \"Portugal\",\"Japan\", \"Netherlands\", \"England\"]}"
   ]
  },
  {
   "cell_type": "code",
   "execution_count": 6,
   "id": "57c6ab33",
   "metadata": {},
   "outputs": [
    {
     "name": "stdout",
     "output_type": "stream",
     "text": [
      "Player:1\n",
      "Player:Alisson\n",
      "Player:Goalkeeper\n",
      "Player:Brazil\n"
     ]
    }
   ],
   "source": [
    "print(f\"Player:{LFC['squad_num'][0]}\")\n",
    "print(f\"Player:{LFC['Name'][0]}\")\n",
    "print(f\"Player:{LFC['position'][0]}\")\n",
    "print(f\"Player:{LFC['Nationality'][0]}\")"
   ]
  },
  {
   "cell_type": "code",
   "execution_count": 7,
   "id": "29d884b9",
   "metadata": {},
   "outputs": [
    {
     "data": {
      "text/plain": [
       "3"
      ]
     },
     "execution_count": 7,
     "metadata": {},
     "output_type": "execute_result"
    }
   ],
   "source": [
    "LFC[\"squad_num\"].index(11)\n"
   ]
  },
  {
   "cell_type": "code",
   "execution_count": 8,
   "id": "a0d6d9ce",
   "metadata": {},
   "outputs": [
    {
     "name": "stdout",
     "output_type": "stream",
     "text": [
      "Player:11\n",
      "Player:Mohamed Salah\n",
      "Player:Winger\n",
      "Player:Egypt\n"
     ]
    }
   ],
   "source": [
    "print(f\"Player:{LFC['squad_num'][3]}\")\n",
    "print(f\"Player:{LFC['Name'][3]}\")\n",
    "print(f\"Player:{LFC['position'][3]}\")\n",
    "print(f\"Player:{LFC['Nationality'][3]}\")"
   ]
  },
  {
   "cell_type": "code",
   "execution_count": 8,
   "id": "d8e23966",
   "metadata": {},
   "outputs": [],
   "source": [
    "LFC = {\n",
    "    'Name': [\"Alisson\", \"Virgil van Dijk\", \"Luis Díaz\", \"Mohamed Salah\",\"Joe Gomez\", \"Ibrahima Konaté\", \"Andy Robertson\",\"Dominik Szoboszlai\",\n",
    "    \"Alexis Mac Allister\", \"Curtis Jones\", \"Darwin Núñez\", \"Diogo Jota\",\"Wataru Endo\", \"Cody Gakpo\", \"Harvey Elliott\" ],\n",
    "    'squad_num': [1, 4, 7, 11,2, 5, 26, 8,10, 17, 9, 20, 3, 18, 19 ],\n",
    "    'position': [ \"Goalkeeper\", \"Defender\", \"Forward\", \"Winger\",\"Defender\", \"Defender\", \"Defender\", \"Midfielder\",\n",
    "    \"Midfielder\", \"Midfielder\", \"Forward\", \"Forward\",\"Midfielder\", \"Forward\", \"Midfielder\" ],\n",
    "    'Nationality': [\"Brazil\", \"Netherlands\", \"Colombia\", \"Egypt\",\"England\", \"France\", \"Scotland\", \"Hungary\",\n",
    "    \"Argentina\", \"England\", \"Uruguay\", \"Portugal\",\"Japan\", \"Netherlands\", \"England\"]}"
   ]
  },
  {
   "cell_type": "code",
   "execution_count": 9,
   "id": "e1e4e36e",
   "metadata": {},
   "outputs": [
    {
     "name": "stdout",
     "output_type": "stream",
     "text": [
      "Player:20\n",
      "Player:Diogo Jota\n",
      "Player:Forward\n"
     ]
    }
   ],
   "source": [
    " \n",
    "LFC[\"squad_num\"].index(20)\n",
    "print(f\"Player:{LFC['squad_num'][11]}\")\n",
    "print(f\"Player:{LFC['Name'][11]}\")  \n",
    "print(f\"Player:{LFC['position'][11]}\")"
   ]
  },
  {
   "cell_type": "code",
   "execution_count": 10,
   "id": "b574b671",
   "metadata": {},
   "outputs": [
    {
     "data": {
      "text/plain": [
       "dict_items([('Name', ['Alisson', 'Virgil van Dijk', 'Luis Díaz', 'Mohamed Salah', 'Joe Gomez', 'Ibrahima Konaté', 'Andy Robertson', 'Dominik Szoboszlai', 'Alexis Mac Allister', 'Curtis Jones', 'Darwin Núñez', 'Diogo Jota', 'Wataru Endo', 'Cody Gakpo', 'Harvey Elliott']), ('squad_num', [1, 4, 7, 11, 2, 5, 26, 8, 10, 17, 9, 20, 3, 18, 19]), ('position', ['Goalkeeper', 'Defender', 'Forward', 'Winger', 'Defender', 'Defender', 'Defender', 'Midfielder', 'Midfielder', 'Midfielder', 'Forward', 'Forward', 'Midfielder', 'Forward', 'Midfielder']), ('Nationality', ['Brazil', 'Netherlands', 'Colombia', 'Egypt', 'England', 'France', 'Scotland', 'Hungary', 'Argentina', 'England', 'Uruguay', 'Portugal', 'Japan', 'Netherlands', 'England'])])"
      ]
     },
     "execution_count": 10,
     "metadata": {},
     "output_type": "execute_result"
    }
   ],
   "source": [
    "LFC.items()"
   ]
  },
  {
   "cell_type": "code",
   "execution_count": 11,
   "id": "124e49aa",
   "metadata": {},
   "outputs": [
    {
     "data": {
      "text/plain": [
       "dict_keys(['Name', 'squad_num', 'position', 'Nationality'])"
      ]
     },
     "execution_count": 11,
     "metadata": {},
     "output_type": "execute_result"
    }
   ],
   "source": [
    "LFC.keys()\n",
    "    "
   ]
  },
  {
   "cell_type": "code",
   "execution_count": 12,
   "id": "477ef7e9",
   "metadata": {},
   "outputs": [
    {
     "data": {
      "text/plain": [
       "dict_values([['Alisson', 'Virgil van Dijk', 'Luis Díaz', 'Mohamed Salah', 'Joe Gomez', 'Ibrahima Konaté', 'Andy Robertson', 'Dominik Szoboszlai', 'Alexis Mac Allister', 'Curtis Jones', 'Darwin Núñez', 'Diogo Jota', 'Wataru Endo', 'Cody Gakpo', 'Harvey Elliott'], [1, 4, 7, 11, 2, 5, 26, 8, 10, 17, 9, 20, 3, 18, 19], ['Goalkeeper', 'Defender', 'Forward', 'Winger', 'Defender', 'Defender', 'Defender', 'Midfielder', 'Midfielder', 'Midfielder', 'Forward', 'Forward', 'Midfielder', 'Forward', 'Midfielder'], ['Brazil', 'Netherlands', 'Colombia', 'Egypt', 'England', 'France', 'Scotland', 'Hungary', 'Argentina', 'England', 'Uruguay', 'Portugal', 'Japan', 'Netherlands', 'England']])"
      ]
     },
     "execution_count": 12,
     "metadata": {},
     "output_type": "execute_result"
    }
   ],
   "source": [
    "LFC.values()\n"
   ]
  },
  {
   "cell_type": "code",
   "execution_count": 13,
   "id": "6b10840a",
   "metadata": {},
   "outputs": [
    {
     "data": {
      "text/plain": [
       "'Diogo Jota'"
      ]
     },
     "execution_count": 13,
     "metadata": {},
     "output_type": "execute_result"
    }
   ],
   "source": [
    "LFC.get('Name')[LFC[\"squad_num\"].index(20)]  # get the name of the player with squad number 20"
   ]
  },
  {
   "cell_type": "code",
   "execution_count": null,
   "id": "4813ac2d",
   "metadata": {},
   "outputs": [],
   "source": []
  }
 ],
 "metadata": {
  "kernelspec": {
   "display_name": ".venv",
   "language": "python",
   "name": "python3"
  },
  "language_info": {
   "codemirror_mode": {
    "name": "ipython",
    "version": 3
   },
   "file_extension": ".py",
   "mimetype": "text/x-python",
   "name": "python",
   "nbconvert_exporter": "python",
   "pygments_lexer": "ipython3",
   "version": "3.12.10"
  }
 },
 "nbformat": 4,
 "nbformat_minor": 5
}
