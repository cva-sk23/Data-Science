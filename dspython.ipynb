{
 "cells": [
  {
   "cell_type": "markdown",
   "id": "2dbca7a2",
   "metadata": {},
   "source": [
    "# Data science"
   ]
  },
  {
   "cell_type": "code",
   "execution_count": 2,
   "id": "c9c8a77d",
   "metadata": {},
   "outputs": [
    {
     "name": "stdout",
     "output_type": "stream",
     "text": [
      "hello\n"
     ]
    }
   ],
   "source": [
    "print('hello')"
   ]
  },
  {
   "cell_type": "markdown",
   "id": "1d26546a",
   "metadata": {},
   "source": [
    "### Variables"
   ]
  },
  {
   "cell_type": "code",
   "execution_count": 5,
   "id": "3dd1d779",
   "metadata": {},
   "outputs": [],
   "source": [
    "a=10\n",
    "b=\"chennai\"\n",
    "c=343343\n",
    "d=[3,4,3]\n"
   ]
  },
  {
   "cell_type": "code",
   "execution_count": 7,
   "id": "63c6975c",
   "metadata": {},
   "outputs": [
    {
     "name": "stdout",
     "output_type": "stream",
     "text": [
      "10\n",
      "chennai\n",
      "343343\n",
      "[3, 4, 3]\n"
     ]
    }
   ],
   "source": [
    "print(a)\n",
    "print(b)\n",
    "print(c)\n",
    "print(d)"
   ]
  },
  {
   "cell_type": "code",
   "execution_count": 11,
   "id": "333a15a8",
   "metadata": {},
   "outputs": [],
   "source": [
    "user_name=\"aravind\"\n",
    "username1=\"siva\"\n"
   ]
  },
  {
   "cell_type": "code",
   "execution_count": 14,
   "id": "78466f7d",
   "metadata": {},
   "outputs": [
    {
     "name": "stdout",
     "output_type": "stream",
     "text": [
      "70\n"
     ]
    }
   ],
   "source": [
    "a=30\n",
    "a1=40\n",
    "print(a+a1)"
   ]
  },
  {
   "cell_type": "markdown",
   "id": "ca5cb9af",
   "metadata": {},
   "source": [
    "### Data Types"
   ]
  },
  {
   "cell_type": "code",
   "execution_count": null,
   "id": "d3d26a1d",
   "metadata": {},
   "outputs": [],
   "source": [
    "Name= \"siva\" # string \n",
    "age= 36 # integer\n",
    "weight= 80.5 # float\n",
    "result=True  #true/False boolean\n",
    "\n"
   ]
  },
  {
   "cell_type": "markdown",
   "id": "93bf06b6",
   "metadata": {},
   "source": [
    "#sample"
   ]
  },
  {
   "cell_type": "code",
   "execution_count": 25,
   "id": "4190f64c",
   "metadata": {},
   "outputs": [],
   "source": [
    "# mailid string\n",
    "# aadhar Integer\n",
    "# pan string\n",
    "# bank acc integer\n",
    "# ip add string\n"
   ]
  },
  {
   "cell_type": "markdown",
   "id": "b5664f08",
   "metadata": {},
   "source": [
    "### Data Structure"
   ]
  },
  {
   "cell_type": "code",
   "execution_count": 26,
   "id": "2374983d",
   "metadata": {},
   "outputs": [],
   "source": [
    "# list \n",
    "# tuple\n",
    "# set\n",
    "# Dict"
   ]
  },
  {
   "cell_type": "markdown",
   "id": "e08ed283",
   "metadata": {},
   "source": [
    "# list []\n"
   ]
  },
  {
   "cell_type": "code",
   "execution_count": 28,
   "id": "867b17af",
   "metadata": {},
   "outputs": [],
   "source": [
    "list= [27,\"sachin\",245.25,True,[1,2,3,4]]  #list ois mutable, list can store all data types and structures\n"
   ]
  },
  {
   "cell_type": "code",
   "execution_count": 30,
   "id": "898ed2d4",
   "metadata": {},
   "outputs": [
    {
     "data": {
      "text/plain": [
       "245.25"
      ]
     },
     "execution_count": 30,
     "metadata": {},
     "output_type": "execute_result"
    }
   ],
   "source": [
    "list[2]"
   ]
  },
  {
   "cell_type": "code",
   "execution_count": 39,
   "id": "3a1f15e7",
   "metadata": {},
   "outputs": [
    {
     "data": {
      "text/plain": [
       "3"
      ]
     },
     "execution_count": 39,
     "metadata": {},
     "output_type": "execute_result"
    }
   ],
   "source": [
    "list[4][2]"
   ]
  },
  {
   "cell_type": "code",
   "execution_count": 41,
   "id": "88f27ef3",
   "metadata": {},
   "outputs": [
    {
     "data": {
      "text/plain": [
       "'c'"
      ]
     },
     "execution_count": 41,
     "metadata": {},
     "output_type": "execute_result"
    }
   ],
   "source": [
    "list[1][2]"
   ]
  },
  {
   "cell_type": "code",
   "execution_count": 46,
   "id": "df9d9a6b",
   "metadata": {},
   "outputs": [
    {
     "data": {
      "text/plain": [
       "[1, 2, 3, 4, 5, 6, 7, 8, 9, 10]"
      ]
     },
     "execution_count": 46,
     "metadata": {},
     "output_type": "execute_result"
    }
   ],
   "source": [
    "list2=[1,2,3,4,5,6,7,8,9,10]\n",
    "list2"
   ]
  },
  {
   "cell_type": "code",
   "execution_count": 45,
   "id": "ef6981fe",
   "metadata": {},
   "outputs": [
    {
     "data": {
      "text/plain": [
       "9"
      ]
     },
     "execution_count": 45,
     "metadata": {},
     "output_type": "execute_result"
    }
   ],
   "source": [
    "list2[-2]"
   ]
  },
  {
   "cell_type": "code",
   "execution_count": 47,
   "id": "d13dcf72",
   "metadata": {},
   "outputs": [
    {
     "data": {
      "text/plain": [
       "[10, 9, 8, 7, 6, 5, 4, 3, 2, 1]"
      ]
     },
     "execution_count": 47,
     "metadata": {},
     "output_type": "execute_result"
    }
   ],
   "source": [
    "list2[::-1]"
   ]
  },
  {
   "cell_type": "code",
   "execution_count": 49,
   "id": "6c3c9c01",
   "metadata": {},
   "outputs": [
    {
     "data": {
      "text/plain": [
       "[1, 2, 3, 4, 5]"
      ]
     },
     "execution_count": 49,
     "metadata": {},
     "output_type": "execute_result"
    }
   ],
   "source": [
    "list2[0:5]"
   ]
  },
  {
   "cell_type": "code",
   "execution_count": 50,
   "id": "fdd402a7",
   "metadata": {},
   "outputs": [
    {
     "data": {
      "text/plain": [
       "[5, 6, 7, 8, 9]"
      ]
     },
     "execution_count": 50,
     "metadata": {},
     "output_type": "execute_result"
    }
   ],
   "source": [
    "list2[4:9]"
   ]
  },
  {
   "cell_type": "code",
   "execution_count": 52,
   "id": "6a8392c3",
   "metadata": {},
   "outputs": [
    {
     "data": {
      "text/plain": [
       "[27, 'sachin', 245.25, True, [1, 2, 3, 4]]"
      ]
     },
     "execution_count": 52,
     "metadata": {},
     "output_type": "execute_result"
    }
   ],
   "source": [
    "list[0:]"
   ]
  },
  {
   "cell_type": "code",
   "execution_count": 53,
   "id": "9e81843b",
   "metadata": {},
   "outputs": [
    {
     "data": {
      "text/plain": [
       "[1, 2, 3, 4, 5, 6, 7, 8, 9, 10]"
      ]
     },
     "execution_count": 53,
     "metadata": {},
     "output_type": "execute_result"
    }
   ],
   "source": [
    "list2"
   ]
  },
  {
   "cell_type": "code",
   "execution_count": 54,
   "id": "f9dd28f8",
   "metadata": {},
   "outputs": [
    {
     "data": {
      "text/plain": [
       "[2, 3, 4, 5, 6, 7, 8, 9, 10]"
      ]
     },
     "execution_count": 54,
     "metadata": {},
     "output_type": "execute_result"
    }
   ],
   "source": [
    "list2[1:]"
   ]
  },
  {
   "cell_type": "code",
   "execution_count": 55,
   "id": "c5c93174",
   "metadata": {},
   "outputs": [
    {
     "data": {
      "text/plain": [
       "10"
      ]
     },
     "execution_count": 55,
     "metadata": {},
     "output_type": "execute_result"
    }
   ],
   "source": [
    "len(list2)"
   ]
  },
  {
   "cell_type": "code",
   "execution_count": 58,
   "id": "78f32bb5",
   "metadata": {},
   "outputs": [
    {
     "data": {
      "text/plain": [
       "[4, 7, 10]"
      ]
     },
     "execution_count": 58,
     "metadata": {},
     "output_type": "execute_result"
    }
   ],
   "source": [
    "list2[3:10:3]"
   ]
  },
  {
   "cell_type": "code",
   "execution_count": 62,
   "id": "e37c46ce",
   "metadata": {},
   "outputs": [],
   "source": [
    "fruits = [\n",
    "    \"Apple\",\n",
    "    \"Banana\",\n",
    "    \"Orange\",\n",
    "    \"Mango\",\n",
    "    \"Grapes\",\n",
    "    \"Pineapple\",\n",
    "    \"Papaya\",\n",
    "    \"Watermelon\",\n",
    "    \"Pomegranate\",\n",
    "    \"Strawberry\",\n",
    "    \"Blueberry\",\n",
    "    \"Raspberry\",\n",
    "    \"Blackberry\",\n",
    "    \"Lemon\",\n",
    "    \"Lime\",\n",
    "    \"Peach\",\n",
    "    \"Pear\",\n",
    "    \"Cherry\",\n",
    "    \"Kiwi\"\n",
    "]"
   ]
  },
  {
   "cell_type": "code",
   "execution_count": 63,
   "id": "3abb32d9",
   "metadata": {},
   "outputs": [
    {
     "data": {
      "text/plain": [
       "19"
      ]
     },
     "execution_count": 63,
     "metadata": {},
     "output_type": "execute_result"
    }
   ],
   "source": [
    "len(fruits)"
   ]
  },
  {
   "cell_type": "code",
   "execution_count": 64,
   "id": "fe89fc64",
   "metadata": {},
   "outputs": [
    {
     "data": {
      "text/plain": [
       "['Kiwi',\n",
       " 'Cherry',\n",
       " 'Pear',\n",
       " 'Peach',\n",
       " 'Lime',\n",
       " 'Lemon',\n",
       " 'Blackberry',\n",
       " 'Raspberry',\n",
       " 'Blueberry',\n",
       " 'Strawberry',\n",
       " 'Pomegranate',\n",
       " 'Watermelon',\n",
       " 'Papaya',\n",
       " 'Pineapple',\n",
       " 'Grapes',\n",
       " 'Mango',\n",
       " 'Orange',\n",
       " 'Banana',\n",
       " 'Apple']"
      ]
     },
     "execution_count": 64,
     "metadata": {},
     "output_type": "execute_result"
    }
   ],
   "source": [
    "fruits[::-1]"
   ]
  },
  {
   "cell_type": "code",
   "execution_count": 102,
   "id": "2e3b79e7",
   "metadata": {},
   "outputs": [],
   "source": [
    "fruits.append(\"gauva\")  #add the element\n"
   ]
  },
  {
   "cell_type": "code",
   "execution_count": 67,
   "id": "a57274fc",
   "metadata": {},
   "outputs": [
    {
     "data": {
      "text/plain": [
       "['Apple',\n",
       " 'Banana',\n",
       " 'Orange',\n",
       " 'Mango',\n",
       " 'Grapes',\n",
       " 'Pineapple',\n",
       " 'Papaya',\n",
       " 'Watermelon',\n",
       " 'Pomegranate',\n",
       " 'Strawberry',\n",
       " 'Blueberry',\n",
       " 'Raspberry',\n",
       " 'Blackberry',\n",
       " 'Lemon',\n",
       " 'Lime',\n",
       " 'Peach',\n",
       " 'Pear',\n",
       " 'Cherry',\n",
       " 'Kiwi',\n",
       " 'gauva']"
      ]
     },
     "execution_count": 67,
     "metadata": {},
     "output_type": "execute_result"
    }
   ],
   "source": [
    "fruits"
   ]
  },
  {
   "cell_type": "code",
   "execution_count": 76,
   "id": "e5b199f9",
   "metadata": {},
   "outputs": [
    {
     "data": {
      "text/plain": [
       "'Kiwi'"
      ]
     },
     "execution_count": 76,
     "metadata": {},
     "output_type": "execute_result"
    }
   ],
   "source": [
    "fruits.pop()   #  pop will add element in last list\n"
   ]
  },
  {
   "cell_type": "code",
   "execution_count": 77,
   "id": "a5ef96ad",
   "metadata": {},
   "outputs": [
    {
     "data": {
      "text/plain": [
       "['Apple',\n",
       " 'madulai',\n",
       " 'madulai',\n",
       " 'Banana',\n",
       " 'Orange',\n",
       " 'Mango',\n",
       " 'Grapes',\n",
       " 'Pineapple',\n",
       " 'Papaya',\n",
       " 'Watermelon',\n",
       " 'Pomegranate',\n",
       " 'Strawberry',\n",
       " 'Blueberry',\n",
       " 'Raspberry',\n",
       " 'Blackberry',\n",
       " 'Lemon',\n",
       " 'Lime',\n",
       " 'Peach',\n",
       " 'Pear',\n",
       " 'Cherry']"
      ]
     },
     "execution_count": 77,
     "metadata": {},
     "output_type": "execute_result"
    }
   ],
   "source": [
    "fruits"
   ]
  },
  {
   "cell_type": "code",
   "execution_count": 72,
   "id": "712bd6d5",
   "metadata": {},
   "outputs": [
    {
     "data": {
      "text/plain": [
       "['__add__',\n",
       " '__class__',\n",
       " '__class_getitem__',\n",
       " '__contains__',\n",
       " '__delattr__',\n",
       " '__delitem__',\n",
       " '__dir__',\n",
       " '__doc__',\n",
       " '__eq__',\n",
       " '__format__',\n",
       " '__ge__',\n",
       " '__getattribute__',\n",
       " '__getitem__',\n",
       " '__getstate__',\n",
       " '__gt__',\n",
       " '__hash__',\n",
       " '__iadd__',\n",
       " '__imul__',\n",
       " '__init__',\n",
       " '__init_subclass__',\n",
       " '__iter__',\n",
       " '__le__',\n",
       " '__len__',\n",
       " '__lt__',\n",
       " '__mul__',\n",
       " '__ne__',\n",
       " '__new__',\n",
       " '__reduce__',\n",
       " '__reduce_ex__',\n",
       " '__repr__',\n",
       " '__reversed__',\n",
       " '__rmul__',\n",
       " '__setattr__',\n",
       " '__setitem__',\n",
       " '__sizeof__',\n",
       " '__str__',\n",
       " '__subclasshook__',\n",
       " 'append',\n",
       " 'clear',\n",
       " 'copy',\n",
       " 'count',\n",
       " 'extend',\n",
       " 'index',\n",
       " 'insert',\n",
       " 'pop',\n",
       " 'remove',\n",
       " 'reverse',\n",
       " 'sort']"
      ]
     },
     "execution_count": 72,
     "metadata": {},
     "output_type": "execute_result"
    }
   ],
   "source": [
    "dir(list)"
   ]
  },
  {
   "cell_type": "code",
   "execution_count": 91,
   "id": "fb0f2cb0",
   "metadata": {},
   "outputs": [],
   "source": [
    "fruits.insert(1,'madulai')  #insert in any position with index"
   ]
  },
  {
   "cell_type": "code",
   "execution_count": 92,
   "id": "f21fff7f",
   "metadata": {},
   "outputs": [
    {
     "data": {
      "text/plain": [
       "['Apple',\n",
       " 'madulai',\n",
       " 'madulai',\n",
       " 'Banana',\n",
       " 'Orange',\n",
       " 'Mango',\n",
       " 'Grapes',\n",
       " 'Pineapple',\n",
       " 'Papaya',\n",
       " 'Watermelon',\n",
       " 'Pomegranate',\n",
       " 'Strawberry',\n",
       " 'Blueberry',\n",
       " 'Raspberry',\n",
       " 'Blackberry',\n",
       " 'Lemon',\n",
       " 'Lime',\n",
       " 'Peach',\n",
       " 'Pear',\n",
       " 'Cherry']"
      ]
     },
     "execution_count": 92,
     "metadata": {},
     "output_type": "execute_result"
    }
   ],
   "source": [
    "fruits"
   ]
  },
  {
   "cell_type": "code",
   "execution_count": 93,
   "id": "4853e1d5",
   "metadata": {},
   "outputs": [],
   "source": [
    "fruits.remove('madulai')  #remove element "
   ]
  },
  {
   "cell_type": "code",
   "execution_count": 94,
   "id": "b19f76e7",
   "metadata": {},
   "outputs": [
    {
     "data": {
      "text/plain": [
       "['Apple',\n",
       " 'madulai',\n",
       " 'Banana',\n",
       " 'Orange',\n",
       " 'Mango',\n",
       " 'Grapes',\n",
       " 'Pineapple',\n",
       " 'Papaya',\n",
       " 'Watermelon',\n",
       " 'Pomegranate',\n",
       " 'Strawberry',\n",
       " 'Blueberry',\n",
       " 'Raspberry',\n",
       " 'Blackberry',\n",
       " 'Lemon',\n",
       " 'Lime',\n",
       " 'Peach',\n",
       " 'Pear',\n",
       " 'Cherry']"
      ]
     },
     "execution_count": 94,
     "metadata": {},
     "output_type": "execute_result"
    }
   ],
   "source": [
    "fruits"
   ]
  },
  {
   "cell_type": "code",
   "execution_count": 105,
   "id": "dfcd5045",
   "metadata": {},
   "outputs": [],
   "source": [
    "fruits = [\n",
    "    \"Apple\",\n",
    "    \"Banana\",\n",
    "    \"Orange\",\n",
    "    \"Mango\",\n",
    "    \"Grapes\",\n",
    "    \"Pineapple\",\n",
    "    \"Papaya\",\n",
    "    \"Watermelon\",\n",
    "    \"Pomegranate\",\n",
    "    \"Strawberry\",\n",
    "    \"Blueberry\",\n",
    "    \"Raspberry\",\n",
    "    \"Blackberry\",\n",
    "    \"Lemon\",\n",
    "    \"Lime\",\n",
    "    \"Peach\",\n",
    "    \"Pear\",\n",
    "    \"Cherry\",\n",
    "    \"Kiwi\"\n",
    "]"
   ]
  },
  {
   "cell_type": "code",
   "execution_count": 100,
   "id": "fd6a58c5",
   "metadata": {},
   "outputs": [],
   "source": [
    "fruits.clear()"
   ]
  },
  {
   "cell_type": "code",
   "execution_count": 101,
   "id": "015ac019",
   "metadata": {},
   "outputs": [
    {
     "data": {
      "text/plain": [
       "[]"
      ]
     },
     "execution_count": 101,
     "metadata": {},
     "output_type": "execute_result"
    }
   ],
   "source": [
    "fruits"
   ]
  },
  {
   "cell_type": "code",
   "execution_count": 106,
   "id": "8fbc4e6c",
   "metadata": {},
   "outputs": [
    {
     "data": {
      "text/plain": [
       "['Apple',\n",
       " 'Banana',\n",
       " 'Orange',\n",
       " 'Mango',\n",
       " 'Grapes',\n",
       " 'Pineapple',\n",
       " 'Papaya',\n",
       " 'Watermelon',\n",
       " 'Pomegranate',\n",
       " 'Strawberry',\n",
       " 'Blueberry',\n",
       " 'Raspberry',\n",
       " 'Blackberry',\n",
       " 'Lemon',\n",
       " 'Lime',\n",
       " 'Peach',\n",
       " 'Pear',\n",
       " 'Cherry',\n",
       " 'Kiwi']"
      ]
     },
     "execution_count": 106,
     "metadata": {},
     "output_type": "execute_result"
    }
   ],
   "source": [
    "fruits"
   ]
  },
  {
   "cell_type": "code",
   "execution_count": 120,
   "id": "866a415c",
   "metadata": {},
   "outputs": [],
   "source": [
    "fruits.insert(5,'madulai')"
   ]
  },
  {
   "cell_type": "code",
   "execution_count": 111,
   "id": "42041ef4",
   "metadata": {},
   "outputs": [
    {
     "data": {
      "text/plain": [
       "['madulai',\n",
       " 'Apple',\n",
       " 'Banana',\n",
       " 'Orange',\n",
       " 'Mango',\n",
       " 'madulai',\n",
       " 'Grapes',\n",
       " 'Pineapple',\n",
       " 'Papaya',\n",
       " 'Watermelon',\n",
       " 'Pomegranate',\n",
       " 'Strawberry',\n",
       " 'Blueberry',\n",
       " 'Raspberry',\n",
       " 'Blackberry',\n",
       " 'Lemon',\n",
       " 'Lime',\n",
       " 'Peach',\n",
       " 'Pear',\n",
       " 'Cherry',\n",
       " 'Kiwi']"
      ]
     },
     "execution_count": 111,
     "metadata": {},
     "output_type": "execute_result"
    }
   ],
   "source": [
    "fruits"
   ]
  },
  {
   "cell_type": "code",
   "execution_count": 134,
   "id": "b2514204",
   "metadata": {},
   "outputs": [
    {
     "data": {
      "text/plain": [
       "1"
      ]
     },
     "execution_count": 134,
     "metadata": {},
     "output_type": "execute_result"
    }
   ],
   "source": [
    "fruits.count('madulai') # count the elements"
   ]
  },
  {
   "cell_type": "code",
   "execution_count": 133,
   "id": "ab6441ed",
   "metadata": {},
   "outputs": [],
   "source": [
    "fruits.remove('madulai')"
   ]
  },
  {
   "cell_type": "code",
   "execution_count": 132,
   "id": "416196ec",
   "metadata": {},
   "outputs": [
    {
     "data": {
      "text/plain": [
       "16"
      ]
     },
     "execution_count": 132,
     "metadata": {},
     "output_type": "execute_result"
    }
   ],
   "source": [
    "fruits.index('Lime') # find the index of the element and it will show the first occurance"
   ]
  },
  {
   "cell_type": "code",
   "execution_count": null,
   "id": "af9db9a0",
   "metadata": {},
   "outputs": [],
   "source": []
  }
 ],
 "metadata": {
  "kernelspec": {
   "display_name": ".venv",
   "language": "python",
   "name": "python3"
  },
  "language_info": {
   "codemirror_mode": {
    "name": "ipython",
    "version": 3
   },
   "file_extension": ".py",
   "mimetype": "text/x-python",
   "name": "python",
   "nbconvert_exporter": "python",
   "pygments_lexer": "ipython3",
   "version": "3.12.10"
  }
 },
 "nbformat": 4,
 "nbformat_minor": 5
}
